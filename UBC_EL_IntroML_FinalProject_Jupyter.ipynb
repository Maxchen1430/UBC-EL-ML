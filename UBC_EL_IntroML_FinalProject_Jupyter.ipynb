{
 "cells": [
  {
   "cell_type": "markdown",
   "metadata": {},
   "source": [
    "# Final Project"
   ]
  },
  {
   "cell_type": "markdown",
   "metadata": {},
   "source": [
    "## Introduction"
   ]
  },
  {
   "cell_type": "markdown",
   "metadata": {},
   "source": [
    "Cheese, the delicious creation from combining dairy and fermentation, is often a favoured delicacy or recipe-must-have for many people. However, for those who are more health-conscious or on a dietary/caloric restriction, it may be beneficial to obtain the fat level of the chosen cheese before purchasing/cooking with it. Therefore, as a cheese-lover and someone who is trying to lose weight and become healthier, I hope to answer the question: \n",
    "\n",
    "**Would it be possible to train a machine learning model to predict the fat level, as \"high\" or \"low,\" in cheese? And if so, which model would work best as measured by mulitple scoring metrics, including \"accuracy,\" \"recall,\" \"precision,\" and \"f1 score\"?**\n",
    "\n",
    "This project aims to answer the afore-mentioned questions by testing different machine learning models, such as **DummyClassifier** and **KNeighborsClassifier**, wtih additional scoring metrics beside \"accuracy\", like **recall**, **precision**, and **f1 score**. Given that the provided \"cheese_data\" data set categorizes fat level as \"high level\" and \"low level,\" the goal of this project will be better achieved with classification models rather than regression, as the end result should display either of the two labels. Much like other real world data sets, the \"cheese\" data set may include possible class imbalance issue, which if so, we will discuss how to address this problem later on in the process. \n",
    "\n",
    "My expected project outcome would be a **RandomizedSearchCV** model built with a **RandomForestClassifier** pipeline and additional parameters to ensure better overall scoring accuracy; additional measurement, such as a confusion matrix and classification report will be created to ascertain if my expectation is indeed correct or false."
   ]
  },
  {
   "cell_type": "markdown",
   "metadata": {},
   "source": [
    "First, let's import all necessary functions and models:"
   ]
  },
  {
   "cell_type": "code",
   "execution_count": 1,
   "metadata": {},
   "outputs": [],
   "source": [
    "import pandas as pd\n",
    "import altair as alt\n",
    "import scipy\n",
    "import numpy as np\n",
    "\n",
    "from sklearn.dummy import DummyClassifier\n",
    "from sklearn.tree import DecisionTreeClassifier\n",
    "from sklearn.model_selection import train_test_split, cross_validate\n",
    "from sklearn.neighbors import KNeighborsClassifier\n",
    "from sklearn.impute import SimpleImputer\n",
    "from sklearn.pipeline import Pipeline, make_pipeline\n",
    "from sklearn.compose import make_column_transformer \n",
    "from sklearn.model_selection import GridSearchCV, RandomizedSearchCV\n",
    "from sklearn.ensemble import RandomForestClassifier, RandomForestRegressor\n",
    "from sklearn.preprocessing import (\n",
    "    FunctionTransformer,\n",
    "    Normalizer,\n",
    "    OneHotEncoder,\n",
    "    StandardScaler,\n",
    "    normalize,\n",
    "    scale)\n",
    "from sklearn.metrics import plot_confusion_matrix, classification_report\n",
    "from sklearn.svm import SVC, SVR"
   ]
  },
  {
   "cell_type": "markdown",
   "metadata": {},
   "source": [
    "Next up, let's read in the data we will be analyzing with, the cheese_data.csv, and name it as \"cheese.\" "
   ]
  },
  {
   "cell_type": "code",
   "execution_count": 2,
   "metadata": {},
   "outputs": [],
   "source": [
    "cheese = pd.read_csv(\"data/cheese_data.csv\")"
   ]
  },
  {
   "cell_type": "markdown",
   "metadata": {},
   "source": [
    "Let's take a look at it before discussing some of the features and what we can do with it!"
   ]
  },
  {
   "cell_type": "code",
   "execution_count": 3,
   "metadata": {},
   "outputs": [
    {
     "data": {
      "text/html": [
       "<div>\n",
       "<style scoped>\n",
       "    .dataframe tbody tr th:only-of-type {\n",
       "        vertical-align: middle;\n",
       "    }\n",
       "\n",
       "    .dataframe tbody tr th {\n",
       "        vertical-align: top;\n",
       "    }\n",
       "\n",
       "    .dataframe thead th {\n",
       "        text-align: right;\n",
       "    }\n",
       "</style>\n",
       "<table border=\"1\" class=\"dataframe\">\n",
       "  <thead>\n",
       "    <tr style=\"text-align: right;\">\n",
       "      <th></th>\n",
       "      <th>CheeseId</th>\n",
       "      <th>ManufacturerProvCode</th>\n",
       "      <th>ManufacturingTypeEn</th>\n",
       "      <th>MoisturePercent</th>\n",
       "      <th>FlavourEn</th>\n",
       "      <th>CharacteristicsEn</th>\n",
       "      <th>Organic</th>\n",
       "      <th>CategoryTypeEn</th>\n",
       "      <th>MilkTypeEn</th>\n",
       "      <th>MilkTreatmentTypeEn</th>\n",
       "      <th>RindTypeEn</th>\n",
       "      <th>CheeseName</th>\n",
       "      <th>FatLevel</th>\n",
       "    </tr>\n",
       "  </thead>\n",
       "  <tbody>\n",
       "    <tr>\n",
       "      <th>0</th>\n",
       "      <td>228</td>\n",
       "      <td>NB</td>\n",
       "      <td>Farmstead</td>\n",
       "      <td>47.0</td>\n",
       "      <td>Sharp, lactic</td>\n",
       "      <td>Uncooked</td>\n",
       "      <td>0</td>\n",
       "      <td>Firm Cheese</td>\n",
       "      <td>Ewe</td>\n",
       "      <td>Raw Milk</td>\n",
       "      <td>Washed Rind</td>\n",
       "      <td>Sieur de Duplessis (Le)</td>\n",
       "      <td>lower fat</td>\n",
       "    </tr>\n",
       "    <tr>\n",
       "      <th>1</th>\n",
       "      <td>242</td>\n",
       "      <td>NB</td>\n",
       "      <td>Farmstead</td>\n",
       "      <td>47.9</td>\n",
       "      <td>Sharp, lactic, lightly caramelized</td>\n",
       "      <td>Uncooked</td>\n",
       "      <td>0</td>\n",
       "      <td>Semi-soft Cheese</td>\n",
       "      <td>Cow</td>\n",
       "      <td>Raw Milk</td>\n",
       "      <td>Washed Rind</td>\n",
       "      <td>Tomme Le Champ Doré</td>\n",
       "      <td>lower fat</td>\n",
       "    </tr>\n",
       "    <tr>\n",
       "      <th>2</th>\n",
       "      <td>301</td>\n",
       "      <td>ON</td>\n",
       "      <td>Industrial</td>\n",
       "      <td>54.0</td>\n",
       "      <td>Mild, tangy, and fruity</td>\n",
       "      <td>Pressed and cooked cheese, pasta filata, inter...</td>\n",
       "      <td>0</td>\n",
       "      <td>Firm Cheese</td>\n",
       "      <td>Cow</td>\n",
       "      <td>Pasteurized</td>\n",
       "      <td>NaN</td>\n",
       "      <td>Provolone Sette Fette (Tre-Stelle)</td>\n",
       "      <td>lower fat</td>\n",
       "    </tr>\n",
       "    <tr>\n",
       "      <th>3</th>\n",
       "      <td>303</td>\n",
       "      <td>NB</td>\n",
       "      <td>Farmstead</td>\n",
       "      <td>47.0</td>\n",
       "      <td>Sharp with fruity notes and a hint of wild honey</td>\n",
       "      <td>NaN</td>\n",
       "      <td>0</td>\n",
       "      <td>Veined Cheeses</td>\n",
       "      <td>Cow</td>\n",
       "      <td>Raw Milk</td>\n",
       "      <td>NaN</td>\n",
       "      <td>Geai Bleu (Le)</td>\n",
       "      <td>lower fat</td>\n",
       "    </tr>\n",
       "    <tr>\n",
       "      <th>4</th>\n",
       "      <td>319</td>\n",
       "      <td>NB</td>\n",
       "      <td>Farmstead</td>\n",
       "      <td>49.4</td>\n",
       "      <td>Softer taste</td>\n",
       "      <td>NaN</td>\n",
       "      <td>1</td>\n",
       "      <td>Semi-soft Cheese</td>\n",
       "      <td>Cow</td>\n",
       "      <td>Raw Milk</td>\n",
       "      <td>Washed Rind</td>\n",
       "      <td>Gamin (Le)</td>\n",
       "      <td>lower fat</td>\n",
       "    </tr>\n",
       "    <tr>\n",
       "      <th>...</th>\n",
       "      <td>...</td>\n",
       "      <td>...</td>\n",
       "      <td>...</td>\n",
       "      <td>...</td>\n",
       "      <td>...</td>\n",
       "      <td>...</td>\n",
       "      <td>...</td>\n",
       "      <td>...</td>\n",
       "      <td>...</td>\n",
       "      <td>...</td>\n",
       "      <td>...</td>\n",
       "      <td>...</td>\n",
       "      <td>...</td>\n",
       "    </tr>\n",
       "    <tr>\n",
       "      <th>1037</th>\n",
       "      <td>2387</td>\n",
       "      <td>NS</td>\n",
       "      <td>Farmstead</td>\n",
       "      <td>37.0</td>\n",
       "      <td>Dill, Caraway, Chili Pepper, Cumin, Sage, Chiv...</td>\n",
       "      <td>Fresh curds through a variety of added Organic...</td>\n",
       "      <td>1</td>\n",
       "      <td>Hard Cheese</td>\n",
       "      <td>Cow</td>\n",
       "      <td>Pasteurized</td>\n",
       "      <td>NaN</td>\n",
       "      <td>Knoydart</td>\n",
       "      <td>higher fat</td>\n",
       "    </tr>\n",
       "    <tr>\n",
       "      <th>1038</th>\n",
       "      <td>2388</td>\n",
       "      <td>AB</td>\n",
       "      <td>Industrial</td>\n",
       "      <td>46.0</td>\n",
       "      <td>Mild and Deep Flavor</td>\n",
       "      <td>Low in Sodium and Fat</td>\n",
       "      <td>0</td>\n",
       "      <td>Fresh Cheese</td>\n",
       "      <td>Cow</td>\n",
       "      <td>Pasteurized</td>\n",
       "      <td>NaN</td>\n",
       "      <td>FRESK-O</td>\n",
       "      <td>lower fat</td>\n",
       "    </tr>\n",
       "    <tr>\n",
       "      <th>1039</th>\n",
       "      <td>2389</td>\n",
       "      <td>NS</td>\n",
       "      <td>Artisan</td>\n",
       "      <td>40.0</td>\n",
       "      <td>Grassy tang and restrained saltiness that refl...</td>\n",
       "      <td>NaN</td>\n",
       "      <td>0</td>\n",
       "      <td>Veined Cheeses</td>\n",
       "      <td>Ewe</td>\n",
       "      <td>Thermised</td>\n",
       "      <td>NaN</td>\n",
       "      <td>Electric Blue</td>\n",
       "      <td>higher fat</td>\n",
       "    </tr>\n",
       "    <tr>\n",
       "      <th>1040</th>\n",
       "      <td>2390</td>\n",
       "      <td>NS</td>\n",
       "      <td>Artisan</td>\n",
       "      <td>34.0</td>\n",
       "      <td>Sweet and tangy flavours combine with hoppy no...</td>\n",
       "      <td>NaN</td>\n",
       "      <td>0</td>\n",
       "      <td>Semi-soft Cheese</td>\n",
       "      <td>Ewe</td>\n",
       "      <td>Thermised</td>\n",
       "      <td>Washed Rind</td>\n",
       "      <td>Hip Hop</td>\n",
       "      <td>higher fat</td>\n",
       "    </tr>\n",
       "    <tr>\n",
       "      <th>1041</th>\n",
       "      <td>2391</td>\n",
       "      <td>AB</td>\n",
       "      <td>Artisan</td>\n",
       "      <td>31.5</td>\n",
       "      <td>Available in different flavor: original, herb ...</td>\n",
       "      <td>Soft Squeaky Fresh Cheese.</td>\n",
       "      <td>0</td>\n",
       "      <td>Fresh Cheese</td>\n",
       "      <td>Cow</td>\n",
       "      <td>Pasteurized</td>\n",
       "      <td>No Rind</td>\n",
       "      <td>Super Fresh Cheese Curds</td>\n",
       "      <td>higher fat</td>\n",
       "    </tr>\n",
       "  </tbody>\n",
       "</table>\n",
       "<p>1042 rows × 13 columns</p>\n",
       "</div>"
      ],
      "text/plain": [
       "      CheeseId ManufacturerProvCode ManufacturingTypeEn  MoisturePercent  \\\n",
       "0          228                   NB           Farmstead             47.0   \n",
       "1          242                   NB           Farmstead             47.9   \n",
       "2          301                   ON          Industrial             54.0   \n",
       "3          303                   NB           Farmstead             47.0   \n",
       "4          319                   NB           Farmstead             49.4   \n",
       "...        ...                  ...                 ...              ...   \n",
       "1037      2387                   NS           Farmstead             37.0   \n",
       "1038      2388                   AB          Industrial             46.0   \n",
       "1039      2389                   NS             Artisan             40.0   \n",
       "1040      2390                   NS             Artisan             34.0   \n",
       "1041      2391                   AB             Artisan             31.5   \n",
       "\n",
       "                                              FlavourEn  \\\n",
       "0                                         Sharp, lactic   \n",
       "1                    Sharp, lactic, lightly caramelized   \n",
       "2                               Mild, tangy, and fruity   \n",
       "3      Sharp with fruity notes and a hint of wild honey   \n",
       "4                                          Softer taste   \n",
       "...                                                 ...   \n",
       "1037  Dill, Caraway, Chili Pepper, Cumin, Sage, Chiv...   \n",
       "1038                               Mild and Deep Flavor   \n",
       "1039  Grassy tang and restrained saltiness that refl...   \n",
       "1040  Sweet and tangy flavours combine with hoppy no...   \n",
       "1041  Available in different flavor: original, herb ...   \n",
       "\n",
       "                                      CharacteristicsEn  Organic  \\\n",
       "0                                              Uncooked        0   \n",
       "1                                              Uncooked        0   \n",
       "2     Pressed and cooked cheese, pasta filata, inter...        0   \n",
       "3                                                   NaN        0   \n",
       "4                                                   NaN        1   \n",
       "...                                                 ...      ...   \n",
       "1037  Fresh curds through a variety of added Organic...        1   \n",
       "1038                              Low in Sodium and Fat        0   \n",
       "1039                                                NaN        0   \n",
       "1040                                                NaN        0   \n",
       "1041                         Soft Squeaky Fresh Cheese.        0   \n",
       "\n",
       "        CategoryTypeEn MilkTypeEn MilkTreatmentTypeEn   RindTypeEn  \\\n",
       "0          Firm Cheese        Ewe            Raw Milk  Washed Rind   \n",
       "1     Semi-soft Cheese        Cow            Raw Milk  Washed Rind   \n",
       "2          Firm Cheese        Cow         Pasteurized          NaN   \n",
       "3       Veined Cheeses        Cow            Raw Milk          NaN   \n",
       "4     Semi-soft Cheese        Cow            Raw Milk  Washed Rind   \n",
       "...                ...        ...                 ...          ...   \n",
       "1037       Hard Cheese        Cow         Pasteurized          NaN   \n",
       "1038      Fresh Cheese        Cow         Pasteurized          NaN   \n",
       "1039    Veined Cheeses        Ewe           Thermised          NaN   \n",
       "1040  Semi-soft Cheese        Ewe           Thermised  Washed Rind   \n",
       "1041      Fresh Cheese        Cow         Pasteurized      No Rind   \n",
       "\n",
       "                              CheeseName    FatLevel  \n",
       "0                Sieur de Duplessis (Le)   lower fat  \n",
       "1                    Tomme Le Champ Doré   lower fat  \n",
       "2     Provolone Sette Fette (Tre-Stelle)   lower fat  \n",
       "3                         Geai Bleu (Le)   lower fat  \n",
       "4                             Gamin (Le)   lower fat  \n",
       "...                                  ...         ...  \n",
       "1037                            Knoydart  higher fat  \n",
       "1038                             FRESK-O   lower fat  \n",
       "1039                       Electric Blue  higher fat  \n",
       "1040                             Hip Hop  higher fat  \n",
       "1041            Super Fresh Cheese Curds  higher fat  \n",
       "\n",
       "[1042 rows x 13 columns]"
      ]
     },
     "execution_count": 3,
     "metadata": {},
     "output_type": "execute_result"
    }
   ],
   "source": [
    "cheese"
   ]
  },
  {
   "cell_type": "markdown",
   "metadata": {},
   "source": [
    "Looking at the \"cheese\" data set, we can see that some columns include \"NaN\" values. They can be problematic and difficult to deal with, so let's find out which column(s) include it. "
   ]
  },
  {
   "cell_type": "code",
   "execution_count": 4,
   "metadata": {},
   "outputs": [
    {
     "data": {
      "text/plain": [
       "CheeseId                  0\n",
       "ManufacturerProvCode      0\n",
       "ManufacturingTypeEn       0\n",
       "MoisturePercent          14\n",
       "FlavourEn               241\n",
       "CharacteristicsEn       399\n",
       "Organic                   0\n",
       "CategoryTypeEn           23\n",
       "MilkTypeEn                1\n",
       "MilkTreatmentTypeEn      65\n",
       "RindTypeEn              321\n",
       "CheeseName                0\n",
       "FatLevel                  0\n",
       "dtype: int64"
      ]
     },
     "execution_count": 4,
     "metadata": {},
     "output_type": "execute_result"
    }
   ],
   "source": [
    "cheese.isnull().sum()"
   ]
  },
  {
   "cell_type": "markdown",
   "metadata": {},
   "source": [
    "As illustrated by the result, quite a few columns include null values, which will be addressed in the preprocessing stage of this project. However, some columns can first be dropped and excluded as they either do not contribute to training a model/pipeline, such as \"CheeseName\" and \"CheeseId,\" or overcomplicate the process too much, such as \"FlavourEn,\" \"CharacteristicsEn,\" and \"RindTypeEn;\" the following code will implement the feature exclusion. "
   ]
  },
  {
   "cell_type": "code",
   "execution_count": 5,
   "metadata": {},
   "outputs": [
    {
     "data": {
      "text/html": [
       "<div>\n",
       "<style scoped>\n",
       "    .dataframe tbody tr th:only-of-type {\n",
       "        vertical-align: middle;\n",
       "    }\n",
       "\n",
       "    .dataframe tbody tr th {\n",
       "        vertical-align: top;\n",
       "    }\n",
       "\n",
       "    .dataframe thead th {\n",
       "        text-align: right;\n",
       "    }\n",
       "</style>\n",
       "<table border=\"1\" class=\"dataframe\">\n",
       "  <thead>\n",
       "    <tr style=\"text-align: right;\">\n",
       "      <th></th>\n",
       "      <th>ManufacturerProvCode</th>\n",
       "      <th>ManufacturingTypeEn</th>\n",
       "      <th>MoisturePercent</th>\n",
       "      <th>Organic</th>\n",
       "      <th>CategoryTypeEn</th>\n",
       "      <th>MilkTypeEn</th>\n",
       "      <th>MilkTreatmentTypeEn</th>\n",
       "      <th>FatLevel</th>\n",
       "    </tr>\n",
       "  </thead>\n",
       "  <tbody>\n",
       "    <tr>\n",
       "      <th>0</th>\n",
       "      <td>NB</td>\n",
       "      <td>Farmstead</td>\n",
       "      <td>47.0</td>\n",
       "      <td>0</td>\n",
       "      <td>Firm Cheese</td>\n",
       "      <td>Ewe</td>\n",
       "      <td>Raw Milk</td>\n",
       "      <td>lower fat</td>\n",
       "    </tr>\n",
       "    <tr>\n",
       "      <th>1</th>\n",
       "      <td>NB</td>\n",
       "      <td>Farmstead</td>\n",
       "      <td>47.9</td>\n",
       "      <td>0</td>\n",
       "      <td>Semi-soft Cheese</td>\n",
       "      <td>Cow</td>\n",
       "      <td>Raw Milk</td>\n",
       "      <td>lower fat</td>\n",
       "    </tr>\n",
       "    <tr>\n",
       "      <th>2</th>\n",
       "      <td>ON</td>\n",
       "      <td>Industrial</td>\n",
       "      <td>54.0</td>\n",
       "      <td>0</td>\n",
       "      <td>Firm Cheese</td>\n",
       "      <td>Cow</td>\n",
       "      <td>Pasteurized</td>\n",
       "      <td>lower fat</td>\n",
       "    </tr>\n",
       "    <tr>\n",
       "      <th>3</th>\n",
       "      <td>NB</td>\n",
       "      <td>Farmstead</td>\n",
       "      <td>47.0</td>\n",
       "      <td>0</td>\n",
       "      <td>Veined Cheeses</td>\n",
       "      <td>Cow</td>\n",
       "      <td>Raw Milk</td>\n",
       "      <td>lower fat</td>\n",
       "    </tr>\n",
       "    <tr>\n",
       "      <th>4</th>\n",
       "      <td>NB</td>\n",
       "      <td>Farmstead</td>\n",
       "      <td>49.4</td>\n",
       "      <td>1</td>\n",
       "      <td>Semi-soft Cheese</td>\n",
       "      <td>Cow</td>\n",
       "      <td>Raw Milk</td>\n",
       "      <td>lower fat</td>\n",
       "    </tr>\n",
       "    <tr>\n",
       "      <th>...</th>\n",
       "      <td>...</td>\n",
       "      <td>...</td>\n",
       "      <td>...</td>\n",
       "      <td>...</td>\n",
       "      <td>...</td>\n",
       "      <td>...</td>\n",
       "      <td>...</td>\n",
       "      <td>...</td>\n",
       "    </tr>\n",
       "    <tr>\n",
       "      <th>1037</th>\n",
       "      <td>NS</td>\n",
       "      <td>Farmstead</td>\n",
       "      <td>37.0</td>\n",
       "      <td>1</td>\n",
       "      <td>Hard Cheese</td>\n",
       "      <td>Cow</td>\n",
       "      <td>Pasteurized</td>\n",
       "      <td>higher fat</td>\n",
       "    </tr>\n",
       "    <tr>\n",
       "      <th>1038</th>\n",
       "      <td>AB</td>\n",
       "      <td>Industrial</td>\n",
       "      <td>46.0</td>\n",
       "      <td>0</td>\n",
       "      <td>Fresh Cheese</td>\n",
       "      <td>Cow</td>\n",
       "      <td>Pasteurized</td>\n",
       "      <td>lower fat</td>\n",
       "    </tr>\n",
       "    <tr>\n",
       "      <th>1039</th>\n",
       "      <td>NS</td>\n",
       "      <td>Artisan</td>\n",
       "      <td>40.0</td>\n",
       "      <td>0</td>\n",
       "      <td>Veined Cheeses</td>\n",
       "      <td>Ewe</td>\n",
       "      <td>Thermised</td>\n",
       "      <td>higher fat</td>\n",
       "    </tr>\n",
       "    <tr>\n",
       "      <th>1040</th>\n",
       "      <td>NS</td>\n",
       "      <td>Artisan</td>\n",
       "      <td>34.0</td>\n",
       "      <td>0</td>\n",
       "      <td>Semi-soft Cheese</td>\n",
       "      <td>Ewe</td>\n",
       "      <td>Thermised</td>\n",
       "      <td>higher fat</td>\n",
       "    </tr>\n",
       "    <tr>\n",
       "      <th>1041</th>\n",
       "      <td>AB</td>\n",
       "      <td>Artisan</td>\n",
       "      <td>31.5</td>\n",
       "      <td>0</td>\n",
       "      <td>Fresh Cheese</td>\n",
       "      <td>Cow</td>\n",
       "      <td>Pasteurized</td>\n",
       "      <td>higher fat</td>\n",
       "    </tr>\n",
       "  </tbody>\n",
       "</table>\n",
       "<p>1042 rows × 8 columns</p>\n",
       "</div>"
      ],
      "text/plain": [
       "     ManufacturerProvCode ManufacturingTypeEn  MoisturePercent  Organic  \\\n",
       "0                      NB           Farmstead             47.0        0   \n",
       "1                      NB           Farmstead             47.9        0   \n",
       "2                      ON          Industrial             54.0        0   \n",
       "3                      NB           Farmstead             47.0        0   \n",
       "4                      NB           Farmstead             49.4        1   \n",
       "...                   ...                 ...              ...      ...   \n",
       "1037                   NS           Farmstead             37.0        1   \n",
       "1038                   AB          Industrial             46.0        0   \n",
       "1039                   NS             Artisan             40.0        0   \n",
       "1040                   NS             Artisan             34.0        0   \n",
       "1041                   AB             Artisan             31.5        0   \n",
       "\n",
       "        CategoryTypeEn MilkTypeEn MilkTreatmentTypeEn    FatLevel  \n",
       "0          Firm Cheese        Ewe            Raw Milk   lower fat  \n",
       "1     Semi-soft Cheese        Cow            Raw Milk   lower fat  \n",
       "2          Firm Cheese        Cow         Pasteurized   lower fat  \n",
       "3       Veined Cheeses        Cow            Raw Milk   lower fat  \n",
       "4     Semi-soft Cheese        Cow            Raw Milk   lower fat  \n",
       "...                ...        ...                 ...         ...  \n",
       "1037       Hard Cheese        Cow         Pasteurized  higher fat  \n",
       "1038      Fresh Cheese        Cow         Pasteurized   lower fat  \n",
       "1039    Veined Cheeses        Ewe           Thermised  higher fat  \n",
       "1040  Semi-soft Cheese        Ewe           Thermised  higher fat  \n",
       "1041      Fresh Cheese        Cow         Pasteurized  higher fat  \n",
       "\n",
       "[1042 rows x 8 columns]"
      ]
     },
     "execution_count": 5,
     "metadata": {},
     "output_type": "execute_result"
    }
   ],
   "source": [
    "cheese = cheese.drop(columns=['CheeseId', 'CheeseName', 'FlavourEn', 'CharacteristicsEn', 'RindTypeEn'])\n",
    "cheese"
   ]
  },
  {
   "cell_type": "markdown",
   "metadata": {},
   "source": [
    "With the unnecessary columns now dropped, we can confidently determine that the remaining columns, except for \"FatLevel\" as it is our target column instead, will serve as our \"X\" columns to help us build and train the desired classification model. \n",
    "\n",
    "But first, let's look more closely at the data at hand with some visualizations! "
   ]
  },
  {
   "cell_type": "markdown",
   "metadata": {},
   "source": [
    "## Exploratory Data Analysis"
   ]
  },
  {
   "cell_type": "markdown",
   "metadata": {},
   "source": [
    "Let's first look at our targeted \"y\" column, Fat Level, and if, or how, skewed it is in a bar chart!"
   ]
  },
  {
   "cell_type": "code",
   "execution_count": 6,
   "metadata": {},
   "outputs": [
    {
     "data": {
      "text/html": [
       "\n",
       "<div id=\"altair-viz-701410d7907f4b3c94c7c6830af74cfc\"></div>\n",
       "<script type=\"text/javascript\">\n",
       "  (function(spec, embedOpt){\n",
       "    let outputDiv = document.currentScript.previousElementSibling;\n",
       "    if (outputDiv.id !== \"altair-viz-701410d7907f4b3c94c7c6830af74cfc\") {\n",
       "      outputDiv = document.getElementById(\"altair-viz-701410d7907f4b3c94c7c6830af74cfc\");\n",
       "    }\n",
       "    const paths = {\n",
       "      \"vega\": \"https://cdn.jsdelivr.net/npm//vega@5?noext\",\n",
       "      \"vega-lib\": \"https://cdn.jsdelivr.net/npm//vega-lib?noext\",\n",
       "      \"vega-lite\": \"https://cdn.jsdelivr.net/npm//vega-lite@4.8.1?noext\",\n",
       "      \"vega-embed\": \"https://cdn.jsdelivr.net/npm//vega-embed@6?noext\",\n",
       "    };\n",
       "\n",
       "    function loadScript(lib) {\n",
       "      return new Promise(function(resolve, reject) {\n",
       "        var s = document.createElement('script');\n",
       "        s.src = paths[lib];\n",
       "        s.async = true;\n",
       "        s.onload = () => resolve(paths[lib]);\n",
       "        s.onerror = () => reject(`Error loading script: ${paths[lib]}`);\n",
       "        document.getElementsByTagName(\"head\")[0].appendChild(s);\n",
       "      });\n",
       "    }\n",
       "\n",
       "    function showError(err) {\n",
       "      outputDiv.innerHTML = `<div class=\"error\" style=\"color:red;\">${err}</div>`;\n",
       "      throw err;\n",
       "    }\n",
       "\n",
       "    function displayChart(vegaEmbed) {\n",
       "      vegaEmbed(outputDiv, spec, embedOpt)\n",
       "        .catch(err => showError(`Javascript Error: ${err.message}<br>This usually means there's a typo in your chart specification. See the javascript console for the full traceback.`));\n",
       "    }\n",
       "\n",
       "    if(typeof define === \"function\" && define.amd) {\n",
       "      requirejs.config({paths});\n",
       "      require([\"vega-embed\"], displayChart, err => showError(`Error loading script: ${err.message}`));\n",
       "    } else if (typeof vegaEmbed === \"function\") {\n",
       "      displayChart(vegaEmbed);\n",
       "    } else {\n",
       "      loadScript(\"vega\")\n",
       "        .then(() => loadScript(\"vega-lite\"))\n",
       "        .then(() => loadScript(\"vega-embed\"))\n",
       "        .catch(showError)\n",
       "        .then(() => displayChart(vegaEmbed));\n",
       "    }\n",
       "  })({\"config\": {\"view\": {\"continuousWidth\": 400, \"continuousHeight\": 300}}, \"data\": {\"name\": \"data-aa92b9d2cdfc5c8e27f67fc776fad83d\"}, \"mark\": \"bar\", \"encoding\": {\"x\": {\"type\": \"nominal\", \"field\": \"FatLevel\", \"title\": \"Fat Level\"}, \"y\": {\"type\": \"quantitative\", \"field\": \"ManufacturingTypeEn\", \"title\": \"Cheese Count\"}}, \"title\": \"Cheese Count for Fat Levels\", \"$schema\": \"https://vega.github.io/schema/vega-lite/v4.8.1.json\", \"datasets\": {\"data-aa92b9d2cdfc5c8e27f67fc776fad83d\": [{\"FatLevel\": \"higher fat\", \"ManufacturerProvCode\": 358, \"ManufacturingTypeEn\": 358, \"MoisturePercent\": 356, \"Organic\": 358, \"CategoryTypeEn\": 351, \"MilkTypeEn\": 357, \"MilkTreatmentTypeEn\": 334}, {\"FatLevel\": \"lower fat\", \"ManufacturerProvCode\": 684, \"ManufacturingTypeEn\": 684, \"MoisturePercent\": 672, \"Organic\": 684, \"CategoryTypeEn\": 668, \"MilkTypeEn\": 684, \"MilkTreatmentTypeEn\": 643}]}}, {\"mode\": \"vega-lite\"});\n",
       "</script>"
      ],
      "text/plain": [
       "alt.Chart(...)"
      ]
     },
     "execution_count": 6,
     "metadata": {},
     "output_type": "execute_result"
    }
   ],
   "source": [
    "# use groupby and count function to tally up how many cheese are categorized as \"higher fat\" and \"lower fat\"\n",
    "cheese_groupby_fatlevel = cheese.groupby(by='FatLevel').count().reset_index()\n",
    "cheese_groupby_fatlevel\n",
    "\n",
    "# the plot function itself with \"Fat Level\" as X, and \"CheeseName\" as Y\n",
    "cheese_fatlevel_barchart = alt.Chart(cheese_groupby_fatlevel).mark_bar().encode(alt.X('FatLevel:N', title='Fat Level'),\n",
    "                                                                                alt.Y('ManufacturingTypeEn:Q', title='Cheese Count')\n",
    "                                                                                ).properties(title='Cheese Count for Fat Levels')\n",
    "cheese_fatlevel_barchart"
   ]
  },
  {
   "cell_type": "markdown",
   "metadata": {},
   "source": [
    "As illustrated by the \"Cheese Count for Fat Levels,\" we can see that \"lower fat\" almost doubles \"higher fat\" in terms of quantity, which showcases a skewed distribution towards the former category. A balanced-class-weight parameter may help the pipeline to resolve this issue, although at the expense of more false positives.\n",
    "\n",
    "Let's now put aside the \"y\" column for a minute and focus on the distribution of the \"X\" columns. Below are a few more bar charts that showcase how many cheese are labeled in their respective categories:"
   ]
  },
  {
   "cell_type": "code",
   "execution_count": 7,
   "metadata": {},
   "outputs": [
    {
     "data": {
      "text/html": [
       "\n",
       "<div id=\"altair-viz-50371f4e972e4cb29540e28e26f2370f\"></div>\n",
       "<script type=\"text/javascript\">\n",
       "  (function(spec, embedOpt){\n",
       "    let outputDiv = document.currentScript.previousElementSibling;\n",
       "    if (outputDiv.id !== \"altair-viz-50371f4e972e4cb29540e28e26f2370f\") {\n",
       "      outputDiv = document.getElementById(\"altair-viz-50371f4e972e4cb29540e28e26f2370f\");\n",
       "    }\n",
       "    const paths = {\n",
       "      \"vega\": \"https://cdn.jsdelivr.net/npm//vega@5?noext\",\n",
       "      \"vega-lib\": \"https://cdn.jsdelivr.net/npm//vega-lib?noext\",\n",
       "      \"vega-lite\": \"https://cdn.jsdelivr.net/npm//vega-lite@4.8.1?noext\",\n",
       "      \"vega-embed\": \"https://cdn.jsdelivr.net/npm//vega-embed@6?noext\",\n",
       "    };\n",
       "\n",
       "    function loadScript(lib) {\n",
       "      return new Promise(function(resolve, reject) {\n",
       "        var s = document.createElement('script');\n",
       "        s.src = paths[lib];\n",
       "        s.async = true;\n",
       "        s.onload = () => resolve(paths[lib]);\n",
       "        s.onerror = () => reject(`Error loading script: ${paths[lib]}`);\n",
       "        document.getElementsByTagName(\"head\")[0].appendChild(s);\n",
       "      });\n",
       "    }\n",
       "\n",
       "    function showError(err) {\n",
       "      outputDiv.innerHTML = `<div class=\"error\" style=\"color:red;\">${err}</div>`;\n",
       "      throw err;\n",
       "    }\n",
       "\n",
       "    function displayChart(vegaEmbed) {\n",
       "      vegaEmbed(outputDiv, spec, embedOpt)\n",
       "        .catch(err => showError(`Javascript Error: ${err.message}<br>This usually means there's a typo in your chart specification. See the javascript console for the full traceback.`));\n",
       "    }\n",
       "\n",
       "    if(typeof define === \"function\" && define.amd) {\n",
       "      requirejs.config({paths});\n",
       "      require([\"vega-embed\"], displayChart, err => showError(`Error loading script: ${err.message}`));\n",
       "    } else if (typeof vegaEmbed === \"function\") {\n",
       "      displayChart(vegaEmbed);\n",
       "    } else {\n",
       "      loadScript(\"vega\")\n",
       "        .then(() => loadScript(\"vega-lite\"))\n",
       "        .then(() => loadScript(\"vega-embed\"))\n",
       "        .catch(showError)\n",
       "        .then(() => displayChart(vegaEmbed));\n",
       "    }\n",
       "  })({\"config\": {\"view\": {\"continuousWidth\": 400, \"continuousHeight\": 300}}, \"data\": {\"name\": \"data-09bba92ee39165c86590950f5cb3ac7a\"}, \"mark\": \"bar\", \"encoding\": {\"x\": {\"type\": \"nominal\", \"field\": \"ManufacturerProvCode\", \"title\": \"Manufacturer Province Code\"}, \"y\": {\"type\": \"quantitative\", \"field\": \"ManufacturingTypeEn\", \"title\": \"Cheese Count\"}}, \"title\": \"Cheese Count for Manufacturing Province\", \"$schema\": \"https://vega.github.io/schema/vega-lite/v4.8.1.json\", \"datasets\": {\"data-09bba92ee39165c86590950f5cb3ac7a\": [{\"ManufacturerProvCode\": \"AB\", \"ManufacturingTypeEn\": 13, \"MoisturePercent\": 13, \"Organic\": 13, \"CategoryTypeEn\": 10, \"MilkTypeEn\": 12, \"MilkTreatmentTypeEn\": 10, \"FatLevel\": 13}, {\"ManufacturerProvCode\": \"BC\", \"ManufacturingTypeEn\": 65, \"MoisturePercent\": 61, \"Organic\": 65, \"CategoryTypeEn\": 65, \"MilkTypeEn\": 65, \"MilkTreatmentTypeEn\": 62, \"FatLevel\": 65}, {\"ManufacturerProvCode\": \"MB\", \"ManufacturingTypeEn\": 11, \"MoisturePercent\": 11, \"Organic\": 11, \"CategoryTypeEn\": 10, \"MilkTypeEn\": 11, \"MilkTreatmentTypeEn\": 10, \"FatLevel\": 11}, {\"ManufacturerProvCode\": \"NB\", \"ManufacturingTypeEn\": 27, \"MoisturePercent\": 27, \"Organic\": 27, \"CategoryTypeEn\": 27, \"MilkTypeEn\": 27, \"MilkTreatmentTypeEn\": 27, \"FatLevel\": 27}, {\"ManufacturerProvCode\": \"NL\", \"ManufacturingTypeEn\": 2, \"MoisturePercent\": 2, \"Organic\": 2, \"CategoryTypeEn\": 1, \"MilkTypeEn\": 2, \"MilkTreatmentTypeEn\": 1, \"FatLevel\": 2}, {\"ManufacturerProvCode\": \"NS\", \"ManufacturingTypeEn\": 10, \"MoisturePercent\": 10, \"Organic\": 10, \"CategoryTypeEn\": 9, \"MilkTypeEn\": 10, \"MilkTreatmentTypeEn\": 9, \"FatLevel\": 10}, {\"ManufacturerProvCode\": \"ON\", \"ManufacturingTypeEn\": 115, \"MoisturePercent\": 110, \"Organic\": 115, \"CategoryTypeEn\": 109, \"MilkTypeEn\": 115, \"MilkTreatmentTypeEn\": 105, \"FatLevel\": 115}, {\"ManufacturerProvCode\": \"PE\", \"ManufacturingTypeEn\": 2, \"MoisturePercent\": 2, \"Organic\": 2, \"CategoryTypeEn\": 2, \"MilkTypeEn\": 2, \"MilkTreatmentTypeEn\": 2, \"FatLevel\": 2}, {\"ManufacturerProvCode\": \"QC\", \"ManufacturingTypeEn\": 796, \"MoisturePercent\": 791, \"Organic\": 796, \"CategoryTypeEn\": 785, \"MilkTypeEn\": 796, \"MilkTreatmentTypeEn\": 750, \"FatLevel\": 796}, {\"ManufacturerProvCode\": \"SK\", \"ManufacturingTypeEn\": 1, \"MoisturePercent\": 1, \"Organic\": 1, \"CategoryTypeEn\": 1, \"MilkTypeEn\": 1, \"MilkTreatmentTypeEn\": 1, \"FatLevel\": 1}]}}, {\"mode\": \"vega-lite\"});\n",
       "</script>"
      ],
      "text/plain": [
       "alt.Chart(...)"
      ]
     },
     "execution_count": 7,
     "metadata": {},
     "output_type": "execute_result"
    }
   ],
   "source": [
    "# use groupby and count function to tally up how many cheese are categorized in each distinct value\n",
    "cheese_groupby_prov = cheese.groupby(by='ManufacturerProvCode').count().reset_index()\n",
    "cheese_groupby_prov\n",
    "\n",
    "# the plot function itself with \"Fat Level\" as X, and \"CheeseName\" as Y\n",
    "cheese_prov_barchart = alt.Chart(cheese_groupby_prov).mark_bar().encode(alt.X('ManufacturerProvCode:N', title='Manufacturer Province Code'),\n",
    "                                                                                alt.Y('ManufacturingTypeEn:Q', title='Cheese Count')\n",
    "                                                                                ).properties(title='Cheese Count for Manufacturing Province')\n",
    "cheese_prov_barchart"
   ]
  },
  {
   "cell_type": "markdown",
   "metadata": {},
   "source": [
    "The distribution for \"Manufacturing Province Code\" is heavily skewed as QC, likely the porvince code for Quebec, dominates the data set, with Ontario's ON and British Columbia's BC taking second and third place repsectively. This may become a problem and result in class imbalance, as QC outnumbers other entries way too much. If QC is defined as positive, then we may have issues with false negative labels as the pipeline may skew towards that label for its prediction; therefore, it may be useful to add a balanced-class-weight parameter to ensure that each class is treated equally. \n",
    "\n",
    "Let's move on to \"Manufacturing Type\" next! "
   ]
  },
  {
   "cell_type": "code",
   "execution_count": 8,
   "metadata": {},
   "outputs": [
    {
     "data": {
      "text/html": [
       "\n",
       "<div id=\"altair-viz-524e76c0df2648afb0ae7db6f793683e\"></div>\n",
       "<script type=\"text/javascript\">\n",
       "  (function(spec, embedOpt){\n",
       "    let outputDiv = document.currentScript.previousElementSibling;\n",
       "    if (outputDiv.id !== \"altair-viz-524e76c0df2648afb0ae7db6f793683e\") {\n",
       "      outputDiv = document.getElementById(\"altair-viz-524e76c0df2648afb0ae7db6f793683e\");\n",
       "    }\n",
       "    const paths = {\n",
       "      \"vega\": \"https://cdn.jsdelivr.net/npm//vega@5?noext\",\n",
       "      \"vega-lib\": \"https://cdn.jsdelivr.net/npm//vega-lib?noext\",\n",
       "      \"vega-lite\": \"https://cdn.jsdelivr.net/npm//vega-lite@4.8.1?noext\",\n",
       "      \"vega-embed\": \"https://cdn.jsdelivr.net/npm//vega-embed@6?noext\",\n",
       "    };\n",
       "\n",
       "    function loadScript(lib) {\n",
       "      return new Promise(function(resolve, reject) {\n",
       "        var s = document.createElement('script');\n",
       "        s.src = paths[lib];\n",
       "        s.async = true;\n",
       "        s.onload = () => resolve(paths[lib]);\n",
       "        s.onerror = () => reject(`Error loading script: ${paths[lib]}`);\n",
       "        document.getElementsByTagName(\"head\")[0].appendChild(s);\n",
       "      });\n",
       "    }\n",
       "\n",
       "    function showError(err) {\n",
       "      outputDiv.innerHTML = `<div class=\"error\" style=\"color:red;\">${err}</div>`;\n",
       "      throw err;\n",
       "    }\n",
       "\n",
       "    function displayChart(vegaEmbed) {\n",
       "      vegaEmbed(outputDiv, spec, embedOpt)\n",
       "        .catch(err => showError(`Javascript Error: ${err.message}<br>This usually means there's a typo in your chart specification. See the javascript console for the full traceback.`));\n",
       "    }\n",
       "\n",
       "    if(typeof define === \"function\" && define.amd) {\n",
       "      requirejs.config({paths});\n",
       "      require([\"vega-embed\"], displayChart, err => showError(`Error loading script: ${err.message}`));\n",
       "    } else if (typeof vegaEmbed === \"function\") {\n",
       "      displayChart(vegaEmbed);\n",
       "    } else {\n",
       "      loadScript(\"vega\")\n",
       "        .then(() => loadScript(\"vega-lite\"))\n",
       "        .then(() => loadScript(\"vega-embed\"))\n",
       "        .catch(showError)\n",
       "        .then(() => displayChart(vegaEmbed));\n",
       "    }\n",
       "  })({\"config\": {\"view\": {\"continuousWidth\": 400, \"continuousHeight\": 300}}, \"data\": {\"name\": \"data-6e35380680611497fe662c625ac90710\"}, \"mark\": \"bar\", \"encoding\": {\"x\": {\"type\": \"nominal\", \"field\": \"ManufacturingTypeEn\", \"title\": \"Manufacturing Type\"}, \"y\": {\"type\": \"quantitative\", \"field\": \"ManufacturerProvCode\", \"title\": \"Cheese Count\"}}, \"title\": \"Cheese Count for Manufacturing Type\", \"$schema\": \"https://vega.github.io/schema/vega-lite/v4.8.1.json\", \"datasets\": {\"data-6e35380680611497fe662c625ac90710\": [{\"ManufacturingTypeEn\": \"Artisan\", \"ManufacturerProvCode\": 367, \"MoisturePercent\": 363, \"Organic\": 367, \"CategoryTypeEn\": 359, \"MilkTypeEn\": 366, \"MilkTreatmentTypeEn\": 351, \"FatLevel\": 367}, {\"ManufacturingTypeEn\": \"Farmstead\", \"ManufacturerProvCode\": 220, \"MoisturePercent\": 219, \"Organic\": 220, \"CategoryTypeEn\": 216, \"MilkTypeEn\": 220, \"MilkTreatmentTypeEn\": 205, \"FatLevel\": 220}, {\"ManufacturingTypeEn\": \"Industrial\", \"ManufacturerProvCode\": 455, \"MoisturePercent\": 446, \"Organic\": 455, \"CategoryTypeEn\": 444, \"MilkTypeEn\": 455, \"MilkTreatmentTypeEn\": 421, \"FatLevel\": 455}]}}, {\"mode\": \"vega-lite\"});\n",
       "</script>"
      ],
      "text/plain": [
       "alt.Chart(...)"
      ]
     },
     "execution_count": 8,
     "metadata": {},
     "output_type": "execute_result"
    }
   ],
   "source": [
    "# use groupby and count function to tally up how many cheese are categorized in each distinct value\n",
    "cheese_groupby_manutype = cheese.groupby(by='ManufacturingTypeEn').count().reset_index()\n",
    "cheese_groupby_manutype\n",
    "\n",
    "# the plot function itself with \"Fat Level\" as X, and \"CheeseName\" as Y\n",
    "cheese_manutype_barchart = alt.Chart(cheese_groupby_manutype).mark_bar().encode(alt.X('ManufacturingTypeEn:N', title='Manufacturing Type'),\n",
    "                                                                                alt.Y('ManufacturerProvCode', title='Cheese Count')\n",
    "                                                                                ).properties(title='Cheese Count for Manufacturing Type')\n",
    "cheese_manutype_barchart"
   ]
  },
  {
   "cell_type": "markdown",
   "metadata": {},
   "source": [
    "The \"Cheese Count for Manufacturing Type\" bar chart also shows a slightly skewed distribution, albeit less than the previous two visualizations in comparison. This chart showcases a \"M\" like distribution, with \"Farmstead\" category being the lesser of the three categories; this issue, however, may not be indicative to class imbalance, as the cheese manufacturing process may just realistically include less of the \"Farmstead\" manufacturing type. Unlike the previous two comparisons, this one warrants less caution as the difference between the three categories are less extreme."
   ]
  },
  {
   "cell_type": "code",
   "execution_count": 9,
   "metadata": {},
   "outputs": [
    {
     "data": {
      "text/html": [
       "\n",
       "<div id=\"altair-viz-6781b63629774f55ab5769aee1c28036\"></div>\n",
       "<script type=\"text/javascript\">\n",
       "  (function(spec, embedOpt){\n",
       "    let outputDiv = document.currentScript.previousElementSibling;\n",
       "    if (outputDiv.id !== \"altair-viz-6781b63629774f55ab5769aee1c28036\") {\n",
       "      outputDiv = document.getElementById(\"altair-viz-6781b63629774f55ab5769aee1c28036\");\n",
       "    }\n",
       "    const paths = {\n",
       "      \"vega\": \"https://cdn.jsdelivr.net/npm//vega@5?noext\",\n",
       "      \"vega-lib\": \"https://cdn.jsdelivr.net/npm//vega-lib?noext\",\n",
       "      \"vega-lite\": \"https://cdn.jsdelivr.net/npm//vega-lite@4.8.1?noext\",\n",
       "      \"vega-embed\": \"https://cdn.jsdelivr.net/npm//vega-embed@6?noext\",\n",
       "    };\n",
       "\n",
       "    function loadScript(lib) {\n",
       "      return new Promise(function(resolve, reject) {\n",
       "        var s = document.createElement('script');\n",
       "        s.src = paths[lib];\n",
       "        s.async = true;\n",
       "        s.onload = () => resolve(paths[lib]);\n",
       "        s.onerror = () => reject(`Error loading script: ${paths[lib]}`);\n",
       "        document.getElementsByTagName(\"head\")[0].appendChild(s);\n",
       "      });\n",
       "    }\n",
       "\n",
       "    function showError(err) {\n",
       "      outputDiv.innerHTML = `<div class=\"error\" style=\"color:red;\">${err}</div>`;\n",
       "      throw err;\n",
       "    }\n",
       "\n",
       "    function displayChart(vegaEmbed) {\n",
       "      vegaEmbed(outputDiv, spec, embedOpt)\n",
       "        .catch(err => showError(`Javascript Error: ${err.message}<br>This usually means there's a typo in your chart specification. See the javascript console for the full traceback.`));\n",
       "    }\n",
       "\n",
       "    if(typeof define === \"function\" && define.amd) {\n",
       "      requirejs.config({paths});\n",
       "      require([\"vega-embed\"], displayChart, err => showError(`Error loading script: ${err.message}`));\n",
       "    } else if (typeof vegaEmbed === \"function\") {\n",
       "      displayChart(vegaEmbed);\n",
       "    } else {\n",
       "      loadScript(\"vega\")\n",
       "        .then(() => loadScript(\"vega-lite\"))\n",
       "        .then(() => loadScript(\"vega-embed\"))\n",
       "        .catch(showError)\n",
       "        .then(() => displayChart(vegaEmbed));\n",
       "    }\n",
       "  })({\"config\": {\"view\": {\"continuousWidth\": 400, \"continuousHeight\": 300}}, \"data\": {\"name\": \"data-6c48409379708a28b6ee6896a6df9255\"}, \"mark\": \"circle\", \"encoding\": {\"x\": {\"type\": \"quantitative\", \"field\": \"MoisturePercent\", \"title\": \"Moisture Percentage\"}, \"y\": {\"type\": \"quantitative\", \"field\": \"ManufacturingTypeEn\", \"title\": \"Cheese Count\"}}, \"title\": \"Cheese Count for Moist Percentage\", \"$schema\": \"https://vega.github.io/schema/vega-lite/v4.8.1.json\", \"datasets\": {\"data-6c48409379708a28b6ee6896a6df9255\": [{\"MoisturePercent\": 12.0, \"ManufacturerProvCode\": 1, \"ManufacturingTypeEn\": 1, \"Organic\": 1, \"CategoryTypeEn\": 1, \"MilkTypeEn\": 1, \"MilkTreatmentTypeEn\": 1, \"FatLevel\": 1}, {\"MoisturePercent\": 17.0, \"ManufacturerProvCode\": 1, \"ManufacturingTypeEn\": 1, \"Organic\": 1, \"CategoryTypeEn\": 1, \"MilkTypeEn\": 1, \"MilkTreatmentTypeEn\": 1, \"FatLevel\": 1}, {\"MoisturePercent\": 20.0, \"ManufacturerProvCode\": 2, \"ManufacturingTypeEn\": 2, \"Organic\": 2, \"CategoryTypeEn\": 2, \"MilkTypeEn\": 2, \"MilkTreatmentTypeEn\": 2, \"FatLevel\": 2}, {\"MoisturePercent\": 21.0, \"ManufacturerProvCode\": 1, \"ManufacturingTypeEn\": 1, \"Organic\": 1, \"CategoryTypeEn\": 1, \"MilkTypeEn\": 1, \"MilkTreatmentTypeEn\": 0, \"FatLevel\": 1}, {\"MoisturePercent\": 22.0, \"ManufacturerProvCode\": 1, \"ManufacturingTypeEn\": 1, \"Organic\": 1, \"CategoryTypeEn\": 1, \"MilkTypeEn\": 1, \"MilkTreatmentTypeEn\": 1, \"FatLevel\": 1}, {\"MoisturePercent\": 23.0, \"ManufacturerProvCode\": 1, \"ManufacturingTypeEn\": 1, \"Organic\": 1, \"CategoryTypeEn\": 1, \"MilkTypeEn\": 1, \"MilkTreatmentTypeEn\": 1, \"FatLevel\": 1}, {\"MoisturePercent\": 24.0, \"ManufacturerProvCode\": 1, \"ManufacturingTypeEn\": 1, \"Organic\": 1, \"CategoryTypeEn\": 1, \"MilkTypeEn\": 1, \"MilkTreatmentTypeEn\": 1, \"FatLevel\": 1}, {\"MoisturePercent\": 25.0, \"ManufacturerProvCode\": 1, \"ManufacturingTypeEn\": 1, \"Organic\": 1, \"CategoryTypeEn\": 1, \"MilkTypeEn\": 1, \"MilkTreatmentTypeEn\": 0, \"FatLevel\": 1}, {\"MoisturePercent\": 26.0, \"ManufacturerProvCode\": 4, \"ManufacturingTypeEn\": 4, \"Organic\": 4, \"CategoryTypeEn\": 3, \"MilkTypeEn\": 4, \"MilkTreatmentTypeEn\": 3, \"FatLevel\": 4}, {\"MoisturePercent\": 27.0, \"ManufacturerProvCode\": 4, \"ManufacturingTypeEn\": 4, \"Organic\": 4, \"CategoryTypeEn\": 4, \"MilkTypeEn\": 4, \"MilkTreatmentTypeEn\": 4, \"FatLevel\": 4}, {\"MoisturePercent\": 29.0, \"ManufacturerProvCode\": 2, \"ManufacturingTypeEn\": 2, \"Organic\": 2, \"CategoryTypeEn\": 2, \"MilkTypeEn\": 2, \"MilkTreatmentTypeEn\": 2, \"FatLevel\": 2}, {\"MoisturePercent\": 30.0, \"ManufacturerProvCode\": 2, \"ManufacturingTypeEn\": 2, \"Organic\": 2, \"CategoryTypeEn\": 2, \"MilkTypeEn\": 2, \"MilkTreatmentTypeEn\": 2, \"FatLevel\": 2}, {\"MoisturePercent\": 31.0, \"ManufacturerProvCode\": 5, \"ManufacturingTypeEn\": 5, \"Organic\": 5, \"CategoryTypeEn\": 5, \"MilkTypeEn\": 5, \"MilkTreatmentTypeEn\": 5, \"FatLevel\": 5}, {\"MoisturePercent\": 31.5, \"ManufacturerProvCode\": 1, \"ManufacturingTypeEn\": 1, \"Organic\": 1, \"CategoryTypeEn\": 1, \"MilkTypeEn\": 1, \"MilkTreatmentTypeEn\": 1, \"FatLevel\": 1}, {\"MoisturePercent\": 32.0, \"ManufacturerProvCode\": 4, \"ManufacturingTypeEn\": 4, \"Organic\": 4, \"CategoryTypeEn\": 4, \"MilkTypeEn\": 4, \"MilkTreatmentTypeEn\": 3, \"FatLevel\": 4}, {\"MoisturePercent\": 33.0, \"ManufacturerProvCode\": 7, \"ManufacturingTypeEn\": 7, \"Organic\": 7, \"CategoryTypeEn\": 7, \"MilkTypeEn\": 7, \"MilkTreatmentTypeEn\": 6, \"FatLevel\": 7}, {\"MoisturePercent\": 34.0, \"ManufacturerProvCode\": 12, \"ManufacturingTypeEn\": 12, \"Organic\": 12, \"CategoryTypeEn\": 12, \"MilkTypeEn\": 12, \"MilkTreatmentTypeEn\": 12, \"FatLevel\": 12}, {\"MoisturePercent\": 35.0, \"ManufacturerProvCode\": 21, \"ManufacturingTypeEn\": 21, \"Organic\": 21, \"CategoryTypeEn\": 21, \"MilkTypeEn\": 21, \"MilkTreatmentTypeEn\": 21, \"FatLevel\": 21}, {\"MoisturePercent\": 36.0, \"ManufacturerProvCode\": 7, \"ManufacturingTypeEn\": 7, \"Organic\": 7, \"CategoryTypeEn\": 7, \"MilkTypeEn\": 7, \"MilkTreatmentTypeEn\": 7, \"FatLevel\": 7}, {\"MoisturePercent\": 37.0, \"ManufacturerProvCode\": 19, \"ManufacturingTypeEn\": 19, \"Organic\": 19, \"CategoryTypeEn\": 17, \"MilkTypeEn\": 19, \"MilkTreatmentTypeEn\": 14, \"FatLevel\": 19}, {\"MoisturePercent\": 38.0, \"ManufacturerProvCode\": 17, \"ManufacturingTypeEn\": 17, \"Organic\": 17, \"CategoryTypeEn\": 16, \"MilkTypeEn\": 17, \"MilkTreatmentTypeEn\": 15, \"FatLevel\": 17}, {\"MoisturePercent\": 39.0, \"ManufacturerProvCode\": 93, \"ManufacturingTypeEn\": 93, \"Organic\": 93, \"CategoryTypeEn\": 93, \"MilkTypeEn\": 93, \"MilkTreatmentTypeEn\": 89, \"FatLevel\": 93}, {\"MoisturePercent\": 40.0, \"ManufacturerProvCode\": 65, \"ManufacturingTypeEn\": 65, \"Organic\": 65, \"CategoryTypeEn\": 61, \"MilkTypeEn\": 65, \"MilkTreatmentTypeEn\": 59, \"FatLevel\": 65}, {\"MoisturePercent\": 40.3, \"ManufacturerProvCode\": 3, \"ManufacturingTypeEn\": 3, \"Organic\": 3, \"CategoryTypeEn\": 3, \"MilkTypeEn\": 3, \"MilkTreatmentTypeEn\": 3, \"FatLevel\": 3}, {\"MoisturePercent\": 41.0, \"ManufacturerProvCode\": 37, \"ManufacturingTypeEn\": 37, \"Organic\": 37, \"CategoryTypeEn\": 36, \"MilkTypeEn\": 37, \"MilkTreatmentTypeEn\": 35, \"FatLevel\": 37}, {\"MoisturePercent\": 42.0, \"ManufacturerProvCode\": 68, \"ManufacturingTypeEn\": 68, \"Organic\": 68, \"CategoryTypeEn\": 63, \"MilkTypeEn\": 67, \"MilkTreatmentTypeEn\": 64, \"FatLevel\": 68}, {\"MoisturePercent\": 42.6, \"ManufacturerProvCode\": 1, \"ManufacturingTypeEn\": 1, \"Organic\": 1, \"CategoryTypeEn\": 1, \"MilkTypeEn\": 1, \"MilkTreatmentTypeEn\": 0, \"FatLevel\": 1}, {\"MoisturePercent\": 42.8, \"ManufacturerProvCode\": 1, \"ManufacturingTypeEn\": 1, \"Organic\": 1, \"CategoryTypeEn\": 0, \"MilkTypeEn\": 1, \"MilkTreatmentTypeEn\": 1, \"FatLevel\": 1}, {\"MoisturePercent\": 43.0, \"ManufacturerProvCode\": 42, \"ManufacturingTypeEn\": 42, \"Organic\": 42, \"CategoryTypeEn\": 41, \"MilkTypeEn\": 42, \"MilkTreatmentTypeEn\": 39, \"FatLevel\": 42}, {\"MoisturePercent\": 44.0, \"ManufacturerProvCode\": 21, \"ManufacturingTypeEn\": 21, \"Organic\": 21, \"CategoryTypeEn\": 21, \"MilkTypeEn\": 21, \"MilkTreatmentTypeEn\": 18, \"FatLevel\": 21}, {\"MoisturePercent\": 45.0, \"ManufacturerProvCode\": 62, \"ManufacturingTypeEn\": 62, \"Organic\": 62, \"CategoryTypeEn\": 61, \"MilkTypeEn\": 62, \"MilkTreatmentTypeEn\": 61, \"FatLevel\": 62}, {\"MoisturePercent\": 46.0, \"ManufacturerProvCode\": 29, \"ManufacturingTypeEn\": 29, \"Organic\": 29, \"CategoryTypeEn\": 28, \"MilkTypeEn\": 29, \"MilkTreatmentTypeEn\": 26, \"FatLevel\": 29}, {\"MoisturePercent\": 47.0, \"ManufacturerProvCode\": 17, \"ManufacturingTypeEn\": 17, \"Organic\": 17, \"CategoryTypeEn\": 17, \"MilkTypeEn\": 17, \"MilkTreatmentTypeEn\": 17, \"FatLevel\": 17}, {\"MoisturePercent\": 47.9, \"ManufacturerProvCode\": 2, \"ManufacturingTypeEn\": 2, \"Organic\": 2, \"CategoryTypeEn\": 2, \"MilkTypeEn\": 2, \"MilkTreatmentTypeEn\": 2, \"FatLevel\": 2}, {\"MoisturePercent\": 48.0, \"ManufacturerProvCode\": 46, \"ManufacturingTypeEn\": 46, \"Organic\": 46, \"CategoryTypeEn\": 46, \"MilkTypeEn\": 46, \"MilkTreatmentTypeEn\": 45, \"FatLevel\": 46}, {\"MoisturePercent\": 49.0, \"ManufacturerProvCode\": 4, \"ManufacturingTypeEn\": 4, \"Organic\": 4, \"CategoryTypeEn\": 4, \"MilkTypeEn\": 4, \"MilkTreatmentTypeEn\": 4, \"FatLevel\": 4}, {\"MoisturePercent\": 49.4, \"ManufacturerProvCode\": 1, \"ManufacturingTypeEn\": 1, \"Organic\": 1, \"CategoryTypeEn\": 1, \"MilkTypeEn\": 1, \"MilkTreatmentTypeEn\": 1, \"FatLevel\": 1}, {\"MoisturePercent\": 50.0, \"ManufacturerProvCode\": 150, \"ManufacturingTypeEn\": 150, \"Organic\": 150, \"CategoryTypeEn\": 147, \"MilkTypeEn\": 150, \"MilkTreatmentTypeEn\": 140, \"FatLevel\": 150}, {\"MoisturePercent\": 51.0, \"ManufacturerProvCode\": 2, \"ManufacturingTypeEn\": 2, \"Organic\": 2, \"CategoryTypeEn\": 2, \"MilkTypeEn\": 2, \"MilkTreatmentTypeEn\": 2, \"FatLevel\": 2}, {\"MoisturePercent\": 51.7, \"ManufacturerProvCode\": 1, \"ManufacturingTypeEn\": 1, \"Organic\": 1, \"CategoryTypeEn\": 1, \"MilkTypeEn\": 1, \"MilkTreatmentTypeEn\": 1, \"FatLevel\": 1}, {\"MoisturePercent\": 52.0, \"ManufacturerProvCode\": 43, \"ManufacturingTypeEn\": 43, \"Organic\": 43, \"CategoryTypeEn\": 42, \"MilkTypeEn\": 43, \"MilkTreatmentTypeEn\": 40, \"FatLevel\": 43}, {\"MoisturePercent\": 53.0, \"ManufacturerProvCode\": 2, \"ManufacturingTypeEn\": 2, \"Organic\": 2, \"CategoryTypeEn\": 2, \"MilkTypeEn\": 2, \"MilkTreatmentTypeEn\": 2, \"FatLevel\": 2}, {\"MoisturePercent\": 54.0, \"ManufacturerProvCode\": 23, \"ManufacturingTypeEn\": 23, \"Organic\": 23, \"CategoryTypeEn\": 22, \"MilkTypeEn\": 23, \"MilkTreatmentTypeEn\": 22, \"FatLevel\": 23}, {\"MoisturePercent\": 55.0, \"ManufacturerProvCode\": 55, \"ManufacturingTypeEn\": 55, \"Organic\": 55, \"CategoryTypeEn\": 55, \"MilkTypeEn\": 55, \"MilkTreatmentTypeEn\": 53, \"FatLevel\": 55}, {\"MoisturePercent\": 56.0, \"ManufacturerProvCode\": 24, \"ManufacturingTypeEn\": 24, \"Organic\": 24, \"CategoryTypeEn\": 24, \"MilkTypeEn\": 24, \"MilkTreatmentTypeEn\": 24, \"FatLevel\": 24}, {\"MoisturePercent\": 57.0, \"ManufacturerProvCode\": 11, \"ManufacturingTypeEn\": 11, \"Organic\": 11, \"CategoryTypeEn\": 11, \"MilkTypeEn\": 11, \"MilkTreatmentTypeEn\": 11, \"FatLevel\": 11}, {\"MoisturePercent\": 58.0, \"ManufacturerProvCode\": 11, \"ManufacturingTypeEn\": 11, \"Organic\": 11, \"CategoryTypeEn\": 11, \"MilkTypeEn\": 11, \"MilkTreatmentTypeEn\": 11, \"FatLevel\": 11}, {\"MoisturePercent\": 59.0, \"ManufacturerProvCode\": 2, \"ManufacturingTypeEn\": 2, \"Organic\": 2, \"CategoryTypeEn\": 2, \"MilkTypeEn\": 2, \"MilkTreatmentTypeEn\": 2, \"FatLevel\": 2}, {\"MoisturePercent\": 60.0, \"ManufacturerProvCode\": 25, \"ManufacturingTypeEn\": 25, \"Organic\": 25, \"CategoryTypeEn\": 25, \"MilkTypeEn\": 25, \"MilkTreatmentTypeEn\": 22, \"FatLevel\": 25}, {\"MoisturePercent\": 61.0, \"ManufacturerProvCode\": 2, \"ManufacturingTypeEn\": 2, \"Organic\": 2, \"CategoryTypeEn\": 2, \"MilkTypeEn\": 2, \"MilkTreatmentTypeEn\": 1, \"FatLevel\": 2}, {\"MoisturePercent\": 62.0, \"ManufacturerProvCode\": 5, \"ManufacturingTypeEn\": 5, \"Organic\": 5, \"CategoryTypeEn\": 5, \"MilkTypeEn\": 5, \"MilkTreatmentTypeEn\": 5, \"FatLevel\": 5}, {\"MoisturePercent\": 63.0, \"ManufacturerProvCode\": 5, \"ManufacturingTypeEn\": 5, \"Organic\": 5, \"CategoryTypeEn\": 5, \"MilkTypeEn\": 5, \"MilkTreatmentTypeEn\": 5, \"FatLevel\": 5}, {\"MoisturePercent\": 64.0, \"ManufacturerProvCode\": 4, \"ManufacturingTypeEn\": 4, \"Organic\": 4, \"CategoryTypeEn\": 4, \"MilkTypeEn\": 4, \"MilkTreatmentTypeEn\": 4, \"FatLevel\": 4}, {\"MoisturePercent\": 65.0, \"ManufacturerProvCode\": 13, \"ManufacturingTypeEn\": 13, \"Organic\": 13, \"CategoryTypeEn\": 13, \"MilkTypeEn\": 13, \"MilkTreatmentTypeEn\": 13, \"FatLevel\": 13}, {\"MoisturePercent\": 67.0, \"ManufacturerProvCode\": 1, \"ManufacturingTypeEn\": 1, \"Organic\": 1, \"CategoryTypeEn\": 1, \"MilkTypeEn\": 1, \"MilkTreatmentTypeEn\": 1, \"FatLevel\": 1}, {\"MoisturePercent\": 68.0, \"ManufacturerProvCode\": 10, \"ManufacturingTypeEn\": 10, \"Organic\": 10, \"CategoryTypeEn\": 10, \"MilkTypeEn\": 10, \"MilkTreatmentTypeEn\": 7, \"FatLevel\": 10}, {\"MoisturePercent\": 69.0, \"ManufacturerProvCode\": 2, \"ManufacturingTypeEn\": 2, \"Organic\": 2, \"CategoryTypeEn\": 2, \"MilkTypeEn\": 2, \"MilkTreatmentTypeEn\": 2, \"FatLevel\": 2}, {\"MoisturePercent\": 70.0, \"ManufacturerProvCode\": 8, \"ManufacturingTypeEn\": 8, \"Organic\": 8, \"CategoryTypeEn\": 8, \"MilkTypeEn\": 8, \"MilkTreatmentTypeEn\": 8, \"FatLevel\": 8}, {\"MoisturePercent\": 72.0, \"ManufacturerProvCode\": 4, \"ManufacturingTypeEn\": 4, \"Organic\": 4, \"CategoryTypeEn\": 4, \"MilkTypeEn\": 4, \"MilkTreatmentTypeEn\": 3, \"FatLevel\": 4}, {\"MoisturePercent\": 74.0, \"ManufacturerProvCode\": 3, \"ManufacturingTypeEn\": 3, \"Organic\": 3, \"CategoryTypeEn\": 3, \"MilkTypeEn\": 3, \"MilkTreatmentTypeEn\": 3, \"FatLevel\": 3}, {\"MoisturePercent\": 75.0, \"ManufacturerProvCode\": 2, \"ManufacturingTypeEn\": 2, \"Organic\": 2, \"CategoryTypeEn\": 2, \"MilkTypeEn\": 2, \"MilkTreatmentTypeEn\": 2, \"FatLevel\": 2}, {\"MoisturePercent\": 76.0, \"ManufacturerProvCode\": 3, \"ManufacturingTypeEn\": 3, \"Organic\": 3, \"CategoryTypeEn\": 3, \"MilkTypeEn\": 3, \"MilkTreatmentTypeEn\": 3, \"FatLevel\": 3}, {\"MoisturePercent\": 78.0, \"ManufacturerProvCode\": 2, \"ManufacturingTypeEn\": 2, \"Organic\": 2, \"CategoryTypeEn\": 2, \"MilkTypeEn\": 2, \"MilkTreatmentTypeEn\": 2, \"FatLevel\": 2}, {\"MoisturePercent\": 80.0, \"ManufacturerProvCode\": 5, \"ManufacturingTypeEn\": 5, \"Organic\": 5, \"CategoryTypeEn\": 5, \"MilkTypeEn\": 5, \"MilkTreatmentTypeEn\": 5, \"FatLevel\": 5}, {\"MoisturePercent\": 83.0, \"ManufacturerProvCode\": 1, \"ManufacturingTypeEn\": 1, \"Organic\": 1, \"CategoryTypeEn\": 1, \"MilkTypeEn\": 1, \"MilkTreatmentTypeEn\": 1, \"FatLevel\": 1}, {\"MoisturePercent\": 86.0, \"ManufacturerProvCode\": 1, \"ManufacturingTypeEn\": 1, \"Organic\": 1, \"CategoryTypeEn\": 1, \"MilkTypeEn\": 1, \"MilkTreatmentTypeEn\": 0, \"FatLevel\": 1}, {\"MoisturePercent\": 88.0, \"ManufacturerProvCode\": 1, \"ManufacturingTypeEn\": 1, \"Organic\": 1, \"CategoryTypeEn\": 1, \"MilkTypeEn\": 1, \"MilkTreatmentTypeEn\": 1, \"FatLevel\": 1}, {\"MoisturePercent\": 92.0, \"ManufacturerProvCode\": 1, \"ManufacturingTypeEn\": 1, \"Organic\": 1, \"CategoryTypeEn\": 1, \"MilkTypeEn\": 1, \"MilkTreatmentTypeEn\": 1, \"FatLevel\": 1}]}}, {\"mode\": \"vega-lite\"});\n",
       "</script>"
      ],
      "text/plain": [
       "alt.Chart(...)"
      ]
     },
     "execution_count": 9,
     "metadata": {},
     "output_type": "execute_result"
    }
   ],
   "source": [
    "# use groupby and count function to tally up how many cheese are categorized in each distinct value\n",
    "cheese_groupby_moist = cheese.groupby(by='MoisturePercent').count().reset_index()\n",
    "cheese_groupby_moist\n",
    "\n",
    "# the plot function itself with \"Fat Level\" as X, and \"CheeseName\" as Y\n",
    "cheese_moist_barchart = alt.Chart(cheese_groupby_moist).mark_circle().encode(alt.X('MoisturePercent:Q', title='Moisture Percentage'),\n",
    "                                                                                alt.Y('ManufacturingTypeEn:Q', title='Cheese Count')\n",
    "                                                                                ).properties(title='Cheese Count for Moist Percentage')\n",
    "cheese_moist_barchart"
   ]
  },
  {
   "cell_type": "markdown",
   "metadata": {},
   "source": [
    "The visualization indicates that the moisture percentage seems to feature a centralized distribution, with the majority of cheese being within the 30% to 70% range and a few potential outliers, such as the ones near 160 and 100 cheese counts. This distribution seems to be the most normal/standard by far. "
   ]
  },
  {
   "cell_type": "code",
   "execution_count": 10,
   "metadata": {},
   "outputs": [
    {
     "data": {
      "text/html": [
       "\n",
       "<div id=\"altair-viz-9827c3d4325e4dfdb4a496b47bdc6dfb\"></div>\n",
       "<script type=\"text/javascript\">\n",
       "  (function(spec, embedOpt){\n",
       "    let outputDiv = document.currentScript.previousElementSibling;\n",
       "    if (outputDiv.id !== \"altair-viz-9827c3d4325e4dfdb4a496b47bdc6dfb\") {\n",
       "      outputDiv = document.getElementById(\"altair-viz-9827c3d4325e4dfdb4a496b47bdc6dfb\");\n",
       "    }\n",
       "    const paths = {\n",
       "      \"vega\": \"https://cdn.jsdelivr.net/npm//vega@5?noext\",\n",
       "      \"vega-lib\": \"https://cdn.jsdelivr.net/npm//vega-lib?noext\",\n",
       "      \"vega-lite\": \"https://cdn.jsdelivr.net/npm//vega-lite@4.8.1?noext\",\n",
       "      \"vega-embed\": \"https://cdn.jsdelivr.net/npm//vega-embed@6?noext\",\n",
       "    };\n",
       "\n",
       "    function loadScript(lib) {\n",
       "      return new Promise(function(resolve, reject) {\n",
       "        var s = document.createElement('script');\n",
       "        s.src = paths[lib];\n",
       "        s.async = true;\n",
       "        s.onload = () => resolve(paths[lib]);\n",
       "        s.onerror = () => reject(`Error loading script: ${paths[lib]}`);\n",
       "        document.getElementsByTagName(\"head\")[0].appendChild(s);\n",
       "      });\n",
       "    }\n",
       "\n",
       "    function showError(err) {\n",
       "      outputDiv.innerHTML = `<div class=\"error\" style=\"color:red;\">${err}</div>`;\n",
       "      throw err;\n",
       "    }\n",
       "\n",
       "    function displayChart(vegaEmbed) {\n",
       "      vegaEmbed(outputDiv, spec, embedOpt)\n",
       "        .catch(err => showError(`Javascript Error: ${err.message}<br>This usually means there's a typo in your chart specification. See the javascript console for the full traceback.`));\n",
       "    }\n",
       "\n",
       "    if(typeof define === \"function\" && define.amd) {\n",
       "      requirejs.config({paths});\n",
       "      require([\"vega-embed\"], displayChart, err => showError(`Error loading script: ${err.message}`));\n",
       "    } else if (typeof vegaEmbed === \"function\") {\n",
       "      displayChart(vegaEmbed);\n",
       "    } else {\n",
       "      loadScript(\"vega\")\n",
       "        .then(() => loadScript(\"vega-lite\"))\n",
       "        .then(() => loadScript(\"vega-embed\"))\n",
       "        .catch(showError)\n",
       "        .then(() => displayChart(vegaEmbed));\n",
       "    }\n",
       "  })({\"config\": {\"view\": {\"continuousWidth\": 400, \"continuousHeight\": 300}}, \"data\": {\"name\": \"data-fde8c2827fe38609030eb78fd38f5704\"}, \"mark\": \"bar\", \"encoding\": {\"x\": {\"type\": \"nominal\", \"field\": \"Organic\", \"title\": \"Organic\"}, \"y\": {\"type\": \"quantitative\", \"field\": \"ManufacturingTypeEn\", \"title\": \"Cheese Count\"}}, \"title\": \"Cheese Count for Organic\", \"$schema\": \"https://vega.github.io/schema/vega-lite/v4.8.1.json\", \"datasets\": {\"data-fde8c2827fe38609030eb78fd38f5704\": [{\"Organic\": 0, \"ManufacturerProvCode\": 943, \"ManufacturingTypeEn\": 943, \"MoisturePercent\": 930, \"CategoryTypeEn\": 921, \"MilkTypeEn\": 942, \"MilkTreatmentTypeEn\": 884, \"FatLevel\": 943}, {\"Organic\": 1, \"ManufacturerProvCode\": 99, \"ManufacturingTypeEn\": 99, \"MoisturePercent\": 98, \"CategoryTypeEn\": 98, \"MilkTypeEn\": 99, \"MilkTreatmentTypeEn\": 93, \"FatLevel\": 99}]}}, {\"mode\": \"vega-lite\"});\n",
       "</script>"
      ],
      "text/plain": [
       "alt.Chart(...)"
      ]
     },
     "execution_count": 10,
     "metadata": {},
     "output_type": "execute_result"
    }
   ],
   "source": [
    "# use groupby and count function to tally up how many cheese are categorized in each distinct value\n",
    "cheese_groupby_organic = cheese.groupby(by='Organic').count().reset_index()\n",
    "cheese_groupby_organic\n",
    "\n",
    "# the plot function itself with \"Fat Level\" as X, and \"CheeseName\" as Y\n",
    "cheese_organic_barchart = alt.Chart(cheese_groupby_organic).mark_bar().encode(alt.X('Organic:N', title='Organic'),\n",
    "                                                                                alt.Y('ManufacturingTypeEn:Q', title='Cheese Count')\n",
    "                                                                                ).properties(title='Cheese Count for Organic')\n",
    "cheese_organic_barchart"
   ]
  },
  {
   "cell_type": "markdown",
   "metadata": {},
   "source": [
    "The \"Cheese Count for Organic\" shows a heavily skewed distribution towards \"0,\" which is the **inorganic** category, and, despite the realistic nature of the data itself, such an over-abundance of examples can potentially create class imbalance within our models; therefore, a balanced-class-weight might be helpful in resolving this potential problem during our training phase of the models. "
   ]
  },
  {
   "cell_type": "code",
   "execution_count": 11,
   "metadata": {},
   "outputs": [
    {
     "data": {
      "text/html": [
       "\n",
       "<div id=\"altair-viz-72de76b00d3247f28800b97910e1f926\"></div>\n",
       "<script type=\"text/javascript\">\n",
       "  (function(spec, embedOpt){\n",
       "    let outputDiv = document.currentScript.previousElementSibling;\n",
       "    if (outputDiv.id !== \"altair-viz-72de76b00d3247f28800b97910e1f926\") {\n",
       "      outputDiv = document.getElementById(\"altair-viz-72de76b00d3247f28800b97910e1f926\");\n",
       "    }\n",
       "    const paths = {\n",
       "      \"vega\": \"https://cdn.jsdelivr.net/npm//vega@5?noext\",\n",
       "      \"vega-lib\": \"https://cdn.jsdelivr.net/npm//vega-lib?noext\",\n",
       "      \"vega-lite\": \"https://cdn.jsdelivr.net/npm//vega-lite@4.8.1?noext\",\n",
       "      \"vega-embed\": \"https://cdn.jsdelivr.net/npm//vega-embed@6?noext\",\n",
       "    };\n",
       "\n",
       "    function loadScript(lib) {\n",
       "      return new Promise(function(resolve, reject) {\n",
       "        var s = document.createElement('script');\n",
       "        s.src = paths[lib];\n",
       "        s.async = true;\n",
       "        s.onload = () => resolve(paths[lib]);\n",
       "        s.onerror = () => reject(`Error loading script: ${paths[lib]}`);\n",
       "        document.getElementsByTagName(\"head\")[0].appendChild(s);\n",
       "      });\n",
       "    }\n",
       "\n",
       "    function showError(err) {\n",
       "      outputDiv.innerHTML = `<div class=\"error\" style=\"color:red;\">${err}</div>`;\n",
       "      throw err;\n",
       "    }\n",
       "\n",
       "    function displayChart(vegaEmbed) {\n",
       "      vegaEmbed(outputDiv, spec, embedOpt)\n",
       "        .catch(err => showError(`Javascript Error: ${err.message}<br>This usually means there's a typo in your chart specification. See the javascript console for the full traceback.`));\n",
       "    }\n",
       "\n",
       "    if(typeof define === \"function\" && define.amd) {\n",
       "      requirejs.config({paths});\n",
       "      require([\"vega-embed\"], displayChart, err => showError(`Error loading script: ${err.message}`));\n",
       "    } else if (typeof vegaEmbed === \"function\") {\n",
       "      displayChart(vegaEmbed);\n",
       "    } else {\n",
       "      loadScript(\"vega\")\n",
       "        .then(() => loadScript(\"vega-lite\"))\n",
       "        .then(() => loadScript(\"vega-embed\"))\n",
       "        .catch(showError)\n",
       "        .then(() => displayChart(vegaEmbed));\n",
       "    }\n",
       "  })({\"config\": {\"view\": {\"continuousWidth\": 400, \"continuousHeight\": 300}}, \"data\": {\"name\": \"data-722930b88a2392b2b474e45bf1dd4262\"}, \"mark\": \"bar\", \"encoding\": {\"x\": {\"type\": \"nominal\", \"field\": \"CategoryTypeEn\", \"title\": \"Category Type\"}, \"y\": {\"type\": \"quantitative\", \"field\": \"ManufacturingTypeEn\", \"title\": \"Cheese Count\"}}, \"title\": \"Cheese Count for Category Type\", \"$schema\": \"https://vega.github.io/schema/vega-lite/v4.8.1.json\", \"datasets\": {\"data-722930b88a2392b2b474e45bf1dd4262\": [{\"CategoryTypeEn\": \"Firm Cheese\", \"ManufacturerProvCode\": 349, \"ManufacturingTypeEn\": 349, \"MoisturePercent\": 344, \"Organic\": 349, \"MilkTypeEn\": 349, \"MilkTreatmentTypeEn\": 332, \"FatLevel\": 349}, {\"CategoryTypeEn\": \"Fresh Cheese\", \"ManufacturerProvCode\": 119, \"ManufacturingTypeEn\": 119, \"MoisturePercent\": 116, \"Organic\": 119, \"MilkTypeEn\": 119, \"MilkTreatmentTypeEn\": 112, \"FatLevel\": 119}, {\"CategoryTypeEn\": \"Hard Cheese\", \"ManufacturerProvCode\": 32, \"ManufacturingTypeEn\": 32, \"MoisturePercent\": 31, \"Organic\": 32, \"MilkTypeEn\": 32, \"MilkTreatmentTypeEn\": 24, \"FatLevel\": 32}, {\"CategoryTypeEn\": \"Semi-soft Cheese\", \"ManufacturerProvCode\": 227, \"ManufacturingTypeEn\": 227, \"MoisturePercent\": 226, \"Organic\": 227, \"MilkTypeEn\": 227, \"MilkTreatmentTypeEn\": 225, \"FatLevel\": 227}, {\"CategoryTypeEn\": \"Soft Cheese\", \"ManufacturerProvCode\": 267, \"ManufacturingTypeEn\": 267, \"MoisturePercent\": 263, \"Organic\": 267, \"MilkTypeEn\": 267, \"MilkTreatmentTypeEn\": 253, \"FatLevel\": 267}, {\"CategoryTypeEn\": \"Veined Cheeses\", \"ManufacturerProvCode\": 25, \"ManufacturingTypeEn\": 25, \"MoisturePercent\": 25, \"Organic\": 25, \"MilkTypeEn\": 25, \"MilkTreatmentTypeEn\": 24, \"FatLevel\": 25}]}}, {\"mode\": \"vega-lite\"});\n",
       "</script>"
      ],
      "text/plain": [
       "alt.Chart(...)"
      ]
     },
     "execution_count": 11,
     "metadata": {},
     "output_type": "execute_result"
    }
   ],
   "source": [
    "# use groupby and count function to tally up how many cheese are categorized in each distinct value\n",
    "cheese_groupby_category = cheese.groupby(by='CategoryTypeEn').count().reset_index()\n",
    "cheese_groupby_category\n",
    "\n",
    "# the plot function itself with \"Fat Level\" as X, and \"CheeseName\" as Y\n",
    "cheese_category_barchart = alt.Chart(cheese_groupby_category).mark_bar().encode(alt.X('CategoryTypeEn:N', title='Category Type'),\n",
    "                                                                                alt.Y('ManufacturingTypeEn:Q', title='Cheese Count')\n",
    "                                                                                ).properties(title='Cheese Count for Category Type')\n",
    "cheese_category_barchart"
   ]
  },
  {
   "cell_type": "markdown",
   "metadata": {},
   "source": [
    "This visualization shows that \"Firm Cheese\" is the most common cheese type, with \"Soft Cheese\" and \"Semi-soft Cheese\" taking the second and third place respectively. Although the data set itself is very likely a realistic reflection of the amount of cheese categories made through the manufacturing process, the concern of class imbalance still persists. A balanced-class-weight will likely be needed to offset the drastic difference between categories such as \"Firm Cheese\" and \"Hard Cheese\" as the prediction from models and pipelines later on may otherwise be favouring the former too much. "
   ]
  },
  {
   "cell_type": "code",
   "execution_count": 12,
   "metadata": {},
   "outputs": [
    {
     "data": {
      "text/html": [
       "\n",
       "<div id=\"altair-viz-8e49667f1f8e403b9ef5fb91f5c67e35\"></div>\n",
       "<script type=\"text/javascript\">\n",
       "  (function(spec, embedOpt){\n",
       "    let outputDiv = document.currentScript.previousElementSibling;\n",
       "    if (outputDiv.id !== \"altair-viz-8e49667f1f8e403b9ef5fb91f5c67e35\") {\n",
       "      outputDiv = document.getElementById(\"altair-viz-8e49667f1f8e403b9ef5fb91f5c67e35\");\n",
       "    }\n",
       "    const paths = {\n",
       "      \"vega\": \"https://cdn.jsdelivr.net/npm//vega@5?noext\",\n",
       "      \"vega-lib\": \"https://cdn.jsdelivr.net/npm//vega-lib?noext\",\n",
       "      \"vega-lite\": \"https://cdn.jsdelivr.net/npm//vega-lite@4.8.1?noext\",\n",
       "      \"vega-embed\": \"https://cdn.jsdelivr.net/npm//vega-embed@6?noext\",\n",
       "    };\n",
       "\n",
       "    function loadScript(lib) {\n",
       "      return new Promise(function(resolve, reject) {\n",
       "        var s = document.createElement('script');\n",
       "        s.src = paths[lib];\n",
       "        s.async = true;\n",
       "        s.onload = () => resolve(paths[lib]);\n",
       "        s.onerror = () => reject(`Error loading script: ${paths[lib]}`);\n",
       "        document.getElementsByTagName(\"head\")[0].appendChild(s);\n",
       "      });\n",
       "    }\n",
       "\n",
       "    function showError(err) {\n",
       "      outputDiv.innerHTML = `<div class=\"error\" style=\"color:red;\">${err}</div>`;\n",
       "      throw err;\n",
       "    }\n",
       "\n",
       "    function displayChart(vegaEmbed) {\n",
       "      vegaEmbed(outputDiv, spec, embedOpt)\n",
       "        .catch(err => showError(`Javascript Error: ${err.message}<br>This usually means there's a typo in your chart specification. See the javascript console for the full traceback.`));\n",
       "    }\n",
       "\n",
       "    if(typeof define === \"function\" && define.amd) {\n",
       "      requirejs.config({paths});\n",
       "      require([\"vega-embed\"], displayChart, err => showError(`Error loading script: ${err.message}`));\n",
       "    } else if (typeof vegaEmbed === \"function\") {\n",
       "      displayChart(vegaEmbed);\n",
       "    } else {\n",
       "      loadScript(\"vega\")\n",
       "        .then(() => loadScript(\"vega-lite\"))\n",
       "        .then(() => loadScript(\"vega-embed\"))\n",
       "        .catch(showError)\n",
       "        .then(() => displayChart(vegaEmbed));\n",
       "    }\n",
       "  })({\"config\": {\"view\": {\"continuousWidth\": 400, \"continuousHeight\": 300}}, \"data\": {\"name\": \"data-6c4126871a166d0c0343ca7cd422c50a\"}, \"mark\": \"bar\", \"encoding\": {\"x\": {\"type\": \"nominal\", \"field\": \"MilkTypeEn\", \"title\": \"Milk Type\"}, \"y\": {\"type\": \"quantitative\", \"field\": \"ManufacturingTypeEn\", \"title\": \"Cheese Count\"}}, \"title\": \"Cheese Count for Milk Type\", \"$schema\": \"https://vega.github.io/schema/vega-lite/v4.8.1.json\", \"datasets\": {\"data-6c4126871a166d0c0343ca7cd422c50a\": [{\"MilkTypeEn\": \"Buffalo Cow\", \"ManufacturerProvCode\": 2, \"ManufacturingTypeEn\": 2, \"MoisturePercent\": 2, \"Organic\": 2, \"CategoryTypeEn\": 2, \"MilkTreatmentTypeEn\": 2, \"FatLevel\": 2}, {\"MilkTypeEn\": \"Cow\", \"ManufacturerProvCode\": 743, \"ManufacturingTypeEn\": 743, \"MoisturePercent\": 732, \"Organic\": 743, \"CategoryTypeEn\": 728, \"MilkTreatmentTypeEn\": 693, \"FatLevel\": 743}, {\"MilkTypeEn\": \"Cow and Goat\", \"ManufacturerProvCode\": 13, \"ManufacturingTypeEn\": 13, \"MoisturePercent\": 13, \"Organic\": 13, \"CategoryTypeEn\": 12, \"MilkTreatmentTypeEn\": 10, \"FatLevel\": 13}, {\"MilkTypeEn\": \"Cow, Goat and Ewe\", \"ManufacturerProvCode\": 1, \"ManufacturingTypeEn\": 1, \"MoisturePercent\": 1, \"Organic\": 1, \"CategoryTypeEn\": 1, \"MilkTreatmentTypeEn\": 1, \"FatLevel\": 1}, {\"MilkTypeEn\": \"Ewe\", \"ManufacturerProvCode\": 62, \"ManufacturingTypeEn\": 62, \"MoisturePercent\": 59, \"Organic\": 62, \"CategoryTypeEn\": 60, \"MilkTreatmentTypeEn\": 58, \"FatLevel\": 62}, {\"MilkTypeEn\": \"Ewe and Cow\", \"ManufacturerProvCode\": 4, \"ManufacturingTypeEn\": 4, \"MoisturePercent\": 4, \"Organic\": 4, \"CategoryTypeEn\": 4, \"MilkTreatmentTypeEn\": 4, \"FatLevel\": 4}, {\"MilkTypeEn\": \"Ewe and Goat\", \"ManufacturerProvCode\": 2, \"ManufacturingTypeEn\": 2, \"MoisturePercent\": 2, \"Organic\": 2, \"CategoryTypeEn\": 2, \"MilkTreatmentTypeEn\": 2, \"FatLevel\": 2}, {\"MilkTypeEn\": \"Goat\", \"ManufacturerProvCode\": 214, \"ManufacturingTypeEn\": 214, \"MoisturePercent\": 214, \"Organic\": 214, \"CategoryTypeEn\": 210, \"MilkTreatmentTypeEn\": 207, \"FatLevel\": 214}]}}, {\"mode\": \"vega-lite\"});\n",
       "</script>"
      ],
      "text/plain": [
       "alt.Chart(...)"
      ]
     },
     "execution_count": 12,
     "metadata": {},
     "output_type": "execute_result"
    }
   ],
   "source": [
    "# use groupby and count function to tally up how many cheese are categorized in each distinct value\n",
    "cheese_groupby_milktype = cheese.groupby(by='MilkTypeEn').count().reset_index()\n",
    "cheese_groupby_milktype\n",
    "\n",
    "# the plot function itself with \"Fat Level\" as X, and \"CheeseName\" as Y\n",
    "cheese_milktype_barchart = alt.Chart(cheese_groupby_milktype).mark_bar().encode(alt.X('MilkTypeEn:N', title='Milk Type'),\n",
    "                                                                                alt.Y('ManufacturingTypeEn:Q', title='Cheese Count')\n",
    "                                                                                ).properties(title='Cheese Count for Milk Type')\n",
    "cheese_milktype_barchart"
   ]
  },
  {
   "cell_type": "markdown",
   "metadata": {},
   "source": [
    "This visualization also shares the similar issue, which is possible class imbalance due to two columns, namely \"Cow\" and \"Goat,\" outnumbering the rest by a hefty amount; a balanced-class-weight parameter should be introduced to the models later to prevent class imbalance from happening. "
   ]
  },
  {
   "cell_type": "code",
   "execution_count": 13,
   "metadata": {},
   "outputs": [
    {
     "data": {
      "text/html": [
       "\n",
       "<div id=\"altair-viz-480a6ebacd574a4299714830c40657a9\"></div>\n",
       "<script type=\"text/javascript\">\n",
       "  (function(spec, embedOpt){\n",
       "    let outputDiv = document.currentScript.previousElementSibling;\n",
       "    if (outputDiv.id !== \"altair-viz-480a6ebacd574a4299714830c40657a9\") {\n",
       "      outputDiv = document.getElementById(\"altair-viz-480a6ebacd574a4299714830c40657a9\");\n",
       "    }\n",
       "    const paths = {\n",
       "      \"vega\": \"https://cdn.jsdelivr.net/npm//vega@5?noext\",\n",
       "      \"vega-lib\": \"https://cdn.jsdelivr.net/npm//vega-lib?noext\",\n",
       "      \"vega-lite\": \"https://cdn.jsdelivr.net/npm//vega-lite@4.8.1?noext\",\n",
       "      \"vega-embed\": \"https://cdn.jsdelivr.net/npm//vega-embed@6?noext\",\n",
       "    };\n",
       "\n",
       "    function loadScript(lib) {\n",
       "      return new Promise(function(resolve, reject) {\n",
       "        var s = document.createElement('script');\n",
       "        s.src = paths[lib];\n",
       "        s.async = true;\n",
       "        s.onload = () => resolve(paths[lib]);\n",
       "        s.onerror = () => reject(`Error loading script: ${paths[lib]}`);\n",
       "        document.getElementsByTagName(\"head\")[0].appendChild(s);\n",
       "      });\n",
       "    }\n",
       "\n",
       "    function showError(err) {\n",
       "      outputDiv.innerHTML = `<div class=\"error\" style=\"color:red;\">${err}</div>`;\n",
       "      throw err;\n",
       "    }\n",
       "\n",
       "    function displayChart(vegaEmbed) {\n",
       "      vegaEmbed(outputDiv, spec, embedOpt)\n",
       "        .catch(err => showError(`Javascript Error: ${err.message}<br>This usually means there's a typo in your chart specification. See the javascript console for the full traceback.`));\n",
       "    }\n",
       "\n",
       "    if(typeof define === \"function\" && define.amd) {\n",
       "      requirejs.config({paths});\n",
       "      require([\"vega-embed\"], displayChart, err => showError(`Error loading script: ${err.message}`));\n",
       "    } else if (typeof vegaEmbed === \"function\") {\n",
       "      displayChart(vegaEmbed);\n",
       "    } else {\n",
       "      loadScript(\"vega\")\n",
       "        .then(() => loadScript(\"vega-lite\"))\n",
       "        .then(() => loadScript(\"vega-embed\"))\n",
       "        .catch(showError)\n",
       "        .then(() => displayChart(vegaEmbed));\n",
       "    }\n",
       "  })({\"config\": {\"view\": {\"continuousWidth\": 400, \"continuousHeight\": 300}}, \"data\": {\"name\": \"data-9d96f2ea1639619d55b92af3779b70bd\"}, \"mark\": \"bar\", \"encoding\": {\"x\": {\"type\": \"nominal\", \"field\": \"MilkTreatmentTypeEn\", \"title\": \"Milk Treatment Type\"}, \"y\": {\"type\": \"quantitative\", \"field\": \"ManufacturingTypeEn\", \"title\": \"Cheese Count\"}}, \"title\": \"Cheese Count for Milk Treatment Type\", \"$schema\": \"https://vega.github.io/schema/vega-lite/v4.8.1.json\", \"datasets\": {\"data-9d96f2ea1639619d55b92af3779b70bd\": [{\"MilkTreatmentTypeEn\": \"Pasteurized\", \"ManufacturerProvCode\": 800, \"ManufacturingTypeEn\": 800, \"MoisturePercent\": 787, \"Organic\": 800, \"CategoryTypeEn\": 793, \"MilkTypeEn\": 800, \"FatLevel\": 800}, {\"MilkTreatmentTypeEn\": \"Raw Milk\", \"ManufacturerProvCode\": 115, \"ManufacturingTypeEn\": 115, \"MoisturePercent\": 114, \"Organic\": 115, \"CategoryTypeEn\": 115, \"MilkTypeEn\": 115, \"FatLevel\": 115}, {\"MilkTreatmentTypeEn\": \"Thermised\", \"ManufacturerProvCode\": 62, \"ManufacturingTypeEn\": 62, \"MoisturePercent\": 62, \"Organic\": 62, \"CategoryTypeEn\": 62, \"MilkTypeEn\": 62, \"FatLevel\": 62}]}}, {\"mode\": \"vega-lite\"});\n",
       "</script>"
      ],
      "text/plain": [
       "alt.Chart(...)"
      ]
     },
     "execution_count": 13,
     "metadata": {},
     "output_type": "execute_result"
    }
   ],
   "source": [
    "# use groupby and count function to tally up how many cheese are categorized in each distinct value\n",
    "cheese_groupby_milktreat = cheese.groupby(by='MilkTreatmentTypeEn').count().reset_index()\n",
    "cheese_groupby_milktreat\n",
    "\n",
    "# the plot function itself with \"Fat Level\" as X, and \"CheeseName\" as Y\n",
    "cheese_milktreat_barchart = alt.Chart(cheese_groupby_milktreat).mark_bar().encode(alt.X('MilkTreatmentTypeEn:N', title='Milk Treatment Type'),\n",
    "                                                                                alt.Y('ManufacturingTypeEn:Q', title='Cheese Count')\n",
    "                                                                                ).properties(title='Cheese Count for Milk Treatment Type')\n",
    "cheese_milktreat_barchart"
   ]
  },
  {
   "cell_type": "markdown",
   "metadata": {},
   "source": [
    "Much like many of the other visualizations, \"Cheese Count for Milk Treatment Type\" also features the same potential class imbalance problem; a balanced-class-weight parameter is recommended."
   ]
  },
  {
   "cell_type": "markdown",
   "metadata": {},
   "source": [
    "As many of the summaries of different visualizations have mentioned, there is a potential class imbalance issue with the \"cheese\" data set, and a balanced-class-weight counter-measure will likely help with easing the imbalance, although at the expense of more false positive predictions. As with many other data sets and analyses that suffer from class imbalance issues, the overall accuracy score may not be the most effective metric to weigh the efficiency of models. Instead, we should use metrics such as **recall**, **precision**, and **f1 scores** to better assess the potential models; these metrics focus on the different positives, and the harmonic mean of precision combined with recall, without putting the sole focus on overall accuracy regardless of the proportions of examples outnumbering others. "
   ]
  },
  {
   "cell_type": "markdown",
   "metadata": {},
   "source": [
    "## Preprocessing"
   ]
  },
  {
   "cell_type": "markdown",
   "metadata": {},
   "source": [
    "Before we do anything to the \"cheese\" data set, let's first change the y column, \"FatLevel,\" into binary columns so that **\"higher fat\" = 1** and **\"lower fat\" = 0**; such a change will allow the models to more easily generate the scoring metrics we need to properly assess them."
   ]
  },
  {
   "cell_type": "code",
   "execution_count": 14,
   "metadata": {},
   "outputs": [
    {
     "data": {
      "text/html": [
       "<div>\n",
       "<style scoped>\n",
       "    .dataframe tbody tr th:only-of-type {\n",
       "        vertical-align: middle;\n",
       "    }\n",
       "\n",
       "    .dataframe tbody tr th {\n",
       "        vertical-align: top;\n",
       "    }\n",
       "\n",
       "    .dataframe thead th {\n",
       "        text-align: right;\n",
       "    }\n",
       "</style>\n",
       "<table border=\"1\" class=\"dataframe\">\n",
       "  <thead>\n",
       "    <tr style=\"text-align: right;\">\n",
       "      <th></th>\n",
       "      <th>ManufacturerProvCode</th>\n",
       "      <th>ManufacturingTypeEn</th>\n",
       "      <th>MoisturePercent</th>\n",
       "      <th>Organic</th>\n",
       "      <th>CategoryTypeEn</th>\n",
       "      <th>MilkTypeEn</th>\n",
       "      <th>MilkTreatmentTypeEn</th>\n",
       "      <th>FatLevel</th>\n",
       "    </tr>\n",
       "  </thead>\n",
       "  <tbody>\n",
       "    <tr>\n",
       "      <th>0</th>\n",
       "      <td>NB</td>\n",
       "      <td>Farmstead</td>\n",
       "      <td>47.0</td>\n",
       "      <td>0</td>\n",
       "      <td>Firm Cheese</td>\n",
       "      <td>Ewe</td>\n",
       "      <td>Raw Milk</td>\n",
       "      <td>0</td>\n",
       "    </tr>\n",
       "    <tr>\n",
       "      <th>1</th>\n",
       "      <td>NB</td>\n",
       "      <td>Farmstead</td>\n",
       "      <td>47.9</td>\n",
       "      <td>0</td>\n",
       "      <td>Semi-soft Cheese</td>\n",
       "      <td>Cow</td>\n",
       "      <td>Raw Milk</td>\n",
       "      <td>0</td>\n",
       "    </tr>\n",
       "    <tr>\n",
       "      <th>2</th>\n",
       "      <td>ON</td>\n",
       "      <td>Industrial</td>\n",
       "      <td>54.0</td>\n",
       "      <td>0</td>\n",
       "      <td>Firm Cheese</td>\n",
       "      <td>Cow</td>\n",
       "      <td>Pasteurized</td>\n",
       "      <td>0</td>\n",
       "    </tr>\n",
       "    <tr>\n",
       "      <th>3</th>\n",
       "      <td>NB</td>\n",
       "      <td>Farmstead</td>\n",
       "      <td>47.0</td>\n",
       "      <td>0</td>\n",
       "      <td>Veined Cheeses</td>\n",
       "      <td>Cow</td>\n",
       "      <td>Raw Milk</td>\n",
       "      <td>0</td>\n",
       "    </tr>\n",
       "    <tr>\n",
       "      <th>4</th>\n",
       "      <td>NB</td>\n",
       "      <td>Farmstead</td>\n",
       "      <td>49.4</td>\n",
       "      <td>1</td>\n",
       "      <td>Semi-soft Cheese</td>\n",
       "      <td>Cow</td>\n",
       "      <td>Raw Milk</td>\n",
       "      <td>0</td>\n",
       "    </tr>\n",
       "    <tr>\n",
       "      <th>...</th>\n",
       "      <td>...</td>\n",
       "      <td>...</td>\n",
       "      <td>...</td>\n",
       "      <td>...</td>\n",
       "      <td>...</td>\n",
       "      <td>...</td>\n",
       "      <td>...</td>\n",
       "      <td>...</td>\n",
       "    </tr>\n",
       "    <tr>\n",
       "      <th>1037</th>\n",
       "      <td>NS</td>\n",
       "      <td>Farmstead</td>\n",
       "      <td>37.0</td>\n",
       "      <td>1</td>\n",
       "      <td>Hard Cheese</td>\n",
       "      <td>Cow</td>\n",
       "      <td>Pasteurized</td>\n",
       "      <td>1</td>\n",
       "    </tr>\n",
       "    <tr>\n",
       "      <th>1038</th>\n",
       "      <td>AB</td>\n",
       "      <td>Industrial</td>\n",
       "      <td>46.0</td>\n",
       "      <td>0</td>\n",
       "      <td>Fresh Cheese</td>\n",
       "      <td>Cow</td>\n",
       "      <td>Pasteurized</td>\n",
       "      <td>0</td>\n",
       "    </tr>\n",
       "    <tr>\n",
       "      <th>1039</th>\n",
       "      <td>NS</td>\n",
       "      <td>Artisan</td>\n",
       "      <td>40.0</td>\n",
       "      <td>0</td>\n",
       "      <td>Veined Cheeses</td>\n",
       "      <td>Ewe</td>\n",
       "      <td>Thermised</td>\n",
       "      <td>1</td>\n",
       "    </tr>\n",
       "    <tr>\n",
       "      <th>1040</th>\n",
       "      <td>NS</td>\n",
       "      <td>Artisan</td>\n",
       "      <td>34.0</td>\n",
       "      <td>0</td>\n",
       "      <td>Semi-soft Cheese</td>\n",
       "      <td>Ewe</td>\n",
       "      <td>Thermised</td>\n",
       "      <td>1</td>\n",
       "    </tr>\n",
       "    <tr>\n",
       "      <th>1041</th>\n",
       "      <td>AB</td>\n",
       "      <td>Artisan</td>\n",
       "      <td>31.5</td>\n",
       "      <td>0</td>\n",
       "      <td>Fresh Cheese</td>\n",
       "      <td>Cow</td>\n",
       "      <td>Pasteurized</td>\n",
       "      <td>1</td>\n",
       "    </tr>\n",
       "  </tbody>\n",
       "</table>\n",
       "<p>1042 rows × 8 columns</p>\n",
       "</div>"
      ],
      "text/plain": [
       "     ManufacturerProvCode ManufacturingTypeEn  MoisturePercent  Organic  \\\n",
       "0                      NB           Farmstead             47.0        0   \n",
       "1                      NB           Farmstead             47.9        0   \n",
       "2                      ON          Industrial             54.0        0   \n",
       "3                      NB           Farmstead             47.0        0   \n",
       "4                      NB           Farmstead             49.4        1   \n",
       "...                   ...                 ...              ...      ...   \n",
       "1037                   NS           Farmstead             37.0        1   \n",
       "1038                   AB          Industrial             46.0        0   \n",
       "1039                   NS             Artisan             40.0        0   \n",
       "1040                   NS             Artisan             34.0        0   \n",
       "1041                   AB             Artisan             31.5        0   \n",
       "\n",
       "        CategoryTypeEn MilkTypeEn MilkTreatmentTypeEn  FatLevel  \n",
       "0          Firm Cheese        Ewe            Raw Milk         0  \n",
       "1     Semi-soft Cheese        Cow            Raw Milk         0  \n",
       "2          Firm Cheese        Cow         Pasteurized         0  \n",
       "3       Veined Cheeses        Cow            Raw Milk         0  \n",
       "4     Semi-soft Cheese        Cow            Raw Milk         0  \n",
       "...                ...        ...                 ...       ...  \n",
       "1037       Hard Cheese        Cow         Pasteurized         1  \n",
       "1038      Fresh Cheese        Cow         Pasteurized         0  \n",
       "1039    Veined Cheeses        Ewe           Thermised         1  \n",
       "1040  Semi-soft Cheese        Ewe           Thermised         1  \n",
       "1041      Fresh Cheese        Cow         Pasteurized         1  \n",
       "\n",
       "[1042 rows x 8 columns]"
      ]
     },
     "execution_count": 14,
     "metadata": {},
     "output_type": "execute_result"
    }
   ],
   "source": [
    "cheese_fatlevelchange = cheese.replace(['higher fat', 'lower fat'], [1, 0])\n",
    "cheese_fatlevelchange"
   ]
  },
  {
   "cell_type": "markdown",
   "metadata": {},
   "source": [
    "Let's then split it into training set and testing set. We will opt for two parameters, **test_size=0.2** (that ensures the testing data set being 20% of the original data set) and **random_state=123** (that random shuffles the data set based on the amount of times given), as a simplified approach  for the splitting process. "
   ]
  },
  {
   "cell_type": "code",
   "execution_count": 15,
   "metadata": {},
   "outputs": [],
   "source": [
    "train_df, test_df = train_test_split(cheese_fatlevelchange, test_size=0.2, random_state=123)"
   ]
  },
  {
   "cell_type": "code",
   "execution_count": 16,
   "metadata": {},
   "outputs": [
    {
     "data": {
      "text/plain": [
       "<bound method NDFrame.describe of      ManufacturerProvCode ManufacturingTypeEn  MoisturePercent  Organic  \\\n",
       "482                    QC             Artisan             48.0        0   \n",
       "896                    QC             Artisan             45.0        0   \n",
       "421                    QC          Industrial             50.0        0   \n",
       "929                    BC             Artisan             40.0        0   \n",
       "737                    QC             Artisan             65.0        0   \n",
       "...                   ...                 ...              ...      ...   \n",
       "638                    QC             Artisan             44.0        0   \n",
       "113                    ON          Industrial             52.0        0   \n",
       "96                     ON          Industrial             74.0        0   \n",
       "106                    ON          Industrial             40.0        0   \n",
       "1041                   AB             Artisan             31.5        0   \n",
       "\n",
       "        CategoryTypeEn MilkTypeEn MilkTreatmentTypeEn  FatLevel  \n",
       "482   Semi-soft Cheese        Cow         Pasteurized         0  \n",
       "896     Veined Cheeses        Cow         Pasteurized         1  \n",
       "421        Soft Cheese        Cow         Pasteurized         0  \n",
       "929   Semi-soft Cheese        Cow         Pasteurized         1  \n",
       "737       Fresh Cheese        Cow         Pasteurized         0  \n",
       "...                ...        ...                 ...       ...  \n",
       "638        Soft Cheese        Cow            Raw Milk         0  \n",
       "113        Soft Cheese        Cow         Pasteurized         0  \n",
       "96        Fresh Cheese        Cow         Pasteurized         0  \n",
       "106   Semi-soft Cheese        Cow         Pasteurized         1  \n",
       "1041      Fresh Cheese        Cow         Pasteurized         1  \n",
       "\n",
       "[833 rows x 8 columns]>"
      ]
     },
     "execution_count": 16,
     "metadata": {},
     "output_type": "execute_result"
    }
   ],
   "source": [
    "train_df.describe"
   ]
  },
  {
   "cell_type": "code",
   "execution_count": 17,
   "metadata": {},
   "outputs": [
    {
     "data": {
      "text/plain": [
       "<bound method NDFrame.describe of     ManufacturerProvCode ManufacturingTypeEn  MoisturePercent  Organic  \\\n",
       "318                   QC          Industrial             42.0        0   \n",
       "235                   QC             Artisan             50.0        0   \n",
       "449                   QC             Artisan             52.0        0   \n",
       "739                   QC          Industrial             52.0        1   \n",
       "621                   QC           Farmstead             45.0        0   \n",
       "..                   ...                 ...              ...      ...   \n",
       "36                    ON             Artisan             47.0        0   \n",
       "162                   QC             Artisan             34.0        0   \n",
       "260                   QC          Industrial             55.0        0   \n",
       "808                   QC             Artisan             57.0        0   \n",
       "363                   QC          Industrial             51.0        0   \n",
       "\n",
       "       CategoryTypeEn    MilkTypeEn MilkTreatmentTypeEn  FatLevel  \n",
       "318       Firm Cheese           Cow         Pasteurized         0  \n",
       "235       Soft Cheese           Cow         Pasteurized         1  \n",
       "449      Fresh Cheese  Cow and Goat         Pasteurized         1  \n",
       "739       Firm Cheese           Cow         Pasteurized         0  \n",
       "621       Soft Cheese          Goat         Pasteurized         0  \n",
       "..                ...           ...                 ...       ...  \n",
       "36   Semi-soft Cheese           Ewe         Pasteurized         1  \n",
       "162       Firm Cheese           Cow            Raw Milk         1  \n",
       "260       Soft Cheese           Cow            Raw Milk         0  \n",
       "808       Soft Cheese          Goat         Pasteurized         0  \n",
       "363       Firm Cheese           Cow         Pasteurized         0  \n",
       "\n",
       "[209 rows x 8 columns]>"
      ]
     },
     "execution_count": 17,
     "metadata": {},
     "output_type": "execute_result"
    }
   ],
   "source": [
    "test_df.describe"
   ]
  },
  {
   "cell_type": "markdown",
   "metadata": {},
   "source": [
    "With the data now split, let's call back the **isnull().sum()** function to see how many null values, and in which columns, we are dealing with."
   ]
  },
  {
   "cell_type": "code",
   "execution_count": 18,
   "metadata": {},
   "outputs": [
    {
     "data": {
      "text/plain": [
       "ManufacturerProvCode     0\n",
       "ManufacturingTypeEn      0\n",
       "MoisturePercent         12\n",
       "Organic                  0\n",
       "CategoryTypeEn          20\n",
       "MilkTypeEn               1\n",
       "MilkTreatmentTypeEn     52\n",
       "FatLevel                 0\n",
       "dtype: int64"
      ]
     },
     "execution_count": 18,
     "metadata": {},
     "output_type": "execute_result"
    }
   ],
   "source": [
    "train_df.isnull().sum()"
   ]
  },
  {
   "cell_type": "code",
   "execution_count": 19,
   "metadata": {},
   "outputs": [
    {
     "data": {
      "text/plain": [
       "ManufacturerProvCode     0\n",
       "ManufacturingTypeEn      0\n",
       "MoisturePercent          2\n",
       "Organic                  0\n",
       "CategoryTypeEn           3\n",
       "MilkTypeEn               0\n",
       "MilkTreatmentTypeEn     13\n",
       "FatLevel                 0\n",
       "dtype: int64"
      ]
     },
     "execution_count": 19,
     "metadata": {},
     "output_type": "execute_result"
    }
   ],
   "source": [
    "test_df.isnull().sum()"
   ]
  },
  {
   "cell_type": "markdown",
   "metadata": {},
   "source": [
    "Although the null values are definitely a problem, but it is a problem that I plan to fix later on when we are creating the column transformers!"
   ]
  },
  {
   "cell_type": "markdown",
   "metadata": {},
   "source": [
    "Let's split the train and test dataframes into our desired X and y data sets!"
   ]
  },
  {
   "cell_type": "code",
   "execution_count": 20,
   "metadata": {},
   "outputs": [],
   "source": [
    "X_train = train_df.drop(columns=['FatLevel'])\n",
    "y_train = train_df['FatLevel']\n",
    "X_test = test_df.drop(columns=['FatLevel'])\n",
    "y_test = test_df['FatLevel']"
   ]
  },
  {
   "cell_type": "markdown",
   "metadata": {},
   "source": [
    "With X and y train and test sets now created, we can move onto categorizing features into different types and creating the required column transformers. As mentioned previously, there are some null values in both train and test sets, and I plan to use imputation to fill them in with **median** values for the numeric column and **most frequent** values for the categorical columns. Other appropriate parameters will also be applied to help streamline the column transforming process."
   ]
  },
  {
   "cell_type": "code",
   "execution_count": 21,
   "metadata": {},
   "outputs": [],
   "source": [
    "numeric_features = ['MoisturePercent']\n",
    "\n",
    "categorical_features = ['ManufacturerProvCode',\n",
    "                       'ManufacturingTypeEn', \n",
    "                       'CategoryTypeEn', \n",
    "                       'MilkTypeEn', \n",
    "                       'MilkTreatmentTypeEn']\n",
    "\n",
    "binary_features = ['Organic']\n",
    "\n",
    "numeric_transformer = Pipeline(\n",
    "    steps=[(\"imputer\", SimpleImputer(strategy=\"median\")), \n",
    "           (\"scaler\", StandardScaler())]\n",
    ")\n",
    "\n",
    "categorical_transformer = Pipeline(\n",
    "    steps=[(\"imputer\", SimpleImputer(strategy=\"most_frequent\", fill_value=\"missing\")),\n",
    "           (\"onehot\", OneHotEncoder(handle_unknown=\"ignore\"))]\n",
    ")\n",
    "\n",
    "preprocessor = make_column_transformer(\n",
    "    (numeric_transformer, numeric_features),\n",
    "    (categorical_transformer, categorical_features),\n",
    "    (OneHotEncoder(handle_unknown=\"error\", drop=\"if_binary\"), binary_features)\n",
    ")"
   ]
  },
  {
   "cell_type": "markdown",
   "metadata": {},
   "source": [
    "## Methods and Results"
   ]
  },
  {
   "cell_type": "markdown",
   "metadata": {},
   "source": [
    "With preprocessing finished, we are moving onto training and testing different models to assess which one works the best. First, let's start off with a **DummyClassifier** and **strategy='stratified'** (to improve the predictive accuracy and control over-fitting). Once the pipeline is created, we will perform a **5-fold cross validation** right away!"
   ]
  },
  {
   "cell_type": "code",
   "execution_count": 22,
   "metadata": {},
   "outputs": [
    {
     "data": {
      "text/html": [
       "<div>\n",
       "<style scoped>\n",
       "    .dataframe tbody tr th:only-of-type {\n",
       "        vertical-align: middle;\n",
       "    }\n",
       "\n",
       "    .dataframe tbody tr th {\n",
       "        vertical-align: top;\n",
       "    }\n",
       "\n",
       "    .dataframe thead th {\n",
       "        text-align: right;\n",
       "    }\n",
       "</style>\n",
       "<table border=\"1\" class=\"dataframe\">\n",
       "  <thead>\n",
       "    <tr style=\"text-align: right;\">\n",
       "      <th></th>\n",
       "      <th>fit_time</th>\n",
       "      <th>score_time</th>\n",
       "      <th>test_accuracy</th>\n",
       "      <th>train_accuracy</th>\n",
       "      <th>test_recall</th>\n",
       "      <th>train_recall</th>\n",
       "      <th>test_precision</th>\n",
       "      <th>train_precision</th>\n",
       "      <th>test_f1</th>\n",
       "      <th>train_f1</th>\n",
       "    </tr>\n",
       "  </thead>\n",
       "  <tbody>\n",
       "    <tr>\n",
       "      <th>0</th>\n",
       "      <td>0.001707</td>\n",
       "      <td>0.006407</td>\n",
       "      <td>0.556886</td>\n",
       "      <td>0.530030</td>\n",
       "      <td>0.403509</td>\n",
       "      <td>0.350877</td>\n",
       "      <td>0.365079</td>\n",
       "      <td>0.326531</td>\n",
       "      <td>0.383333</td>\n",
       "      <td>0.338266</td>\n",
       "    </tr>\n",
       "    <tr>\n",
       "      <th>1</th>\n",
       "      <td>0.001441</td>\n",
       "      <td>0.004165</td>\n",
       "      <td>0.568862</td>\n",
       "      <td>0.534535</td>\n",
       "      <td>0.368421</td>\n",
       "      <td>0.333333</td>\n",
       "      <td>0.368421</td>\n",
       "      <td>0.324786</td>\n",
       "      <td>0.368421</td>\n",
       "      <td>0.329004</td>\n",
       "    </tr>\n",
       "    <tr>\n",
       "      <th>2</th>\n",
       "      <td>0.001191</td>\n",
       "      <td>0.004102</td>\n",
       "      <td>0.544910</td>\n",
       "      <td>0.537538</td>\n",
       "      <td>0.298246</td>\n",
       "      <td>0.350877</td>\n",
       "      <td>0.320755</td>\n",
       "      <td>0.333333</td>\n",
       "      <td>0.309091</td>\n",
       "      <td>0.341880</td>\n",
       "    </tr>\n",
       "    <tr>\n",
       "      <th>3</th>\n",
       "      <td>0.001206</td>\n",
       "      <td>0.004116</td>\n",
       "      <td>0.590361</td>\n",
       "      <td>0.592204</td>\n",
       "      <td>0.368421</td>\n",
       "      <td>0.425439</td>\n",
       "      <td>0.396226</td>\n",
       "      <td>0.407563</td>\n",
       "      <td>0.381818</td>\n",
       "      <td>0.416309</td>\n",
       "    </tr>\n",
       "    <tr>\n",
       "      <th>4</th>\n",
       "      <td>0.001178</td>\n",
       "      <td>0.004123</td>\n",
       "      <td>0.584337</td>\n",
       "      <td>0.556222</td>\n",
       "      <td>0.333333</td>\n",
       "      <td>0.385965</td>\n",
       "      <td>0.380000</td>\n",
       "      <td>0.360656</td>\n",
       "      <td>0.355140</td>\n",
       "      <td>0.372881</td>\n",
       "    </tr>\n",
       "  </tbody>\n",
       "</table>\n",
       "</div>"
      ],
      "text/plain": [
       "   fit_time  score_time  test_accuracy  train_accuracy  test_recall  \\\n",
       "0  0.001707    0.006407       0.556886        0.530030     0.403509   \n",
       "1  0.001441    0.004165       0.568862        0.534535     0.368421   \n",
       "2  0.001191    0.004102       0.544910        0.537538     0.298246   \n",
       "3  0.001206    0.004116       0.590361        0.592204     0.368421   \n",
       "4  0.001178    0.004123       0.584337        0.556222     0.333333   \n",
       "\n",
       "   train_recall  test_precision  train_precision   test_f1  train_f1  \n",
       "0      0.350877        0.365079         0.326531  0.383333  0.338266  \n",
       "1      0.333333        0.368421         0.324786  0.368421  0.329004  \n",
       "2      0.350877        0.320755         0.333333  0.309091  0.341880  \n",
       "3      0.425439        0.396226         0.407563  0.381818  0.416309  \n",
       "4      0.385965        0.380000         0.360656  0.355140  0.372881  "
      ]
     },
     "execution_count": 22,
     "metadata": {},
     "output_type": "execute_result"
    }
   ],
   "source": [
    "dummy_model = DummyClassifier(strategy='stratified')\n",
    "\n",
    "dummy_valid = pd.DataFrame(cross_validate(dummy_model, X_train, y_train, cv=5, return_train_score=True,\n",
    "                                         scoring = ['accuracy', 'recall', 'precision', 'f1']))\n",
    "\n",
    "dummy_valid"
   ]
  },
  {
   "cell_type": "markdown",
   "metadata": {},
   "source": [
    "Although not quite precise, we can see through the results that the overall train and test scores are low, which means the DummyClassifier is **underfitting**; this is good news, since we now know for certain that DummyClassifier is not a good model for what we wish to achieve."
   ]
  },
  {
   "cell_type": "markdown",
   "metadata": {},
   "source": [
    "As a quick disclaimer, we will NOT be including DecisionTreeClassifier within our models of considerations, as it is NOT capable of handling string values within the data set; therefore, making it automatically a bad fit for our \"cheese\" data set."
   ]
  },
  {
   "cell_type": "markdown",
   "metadata": {},
   "source": [
    "Let's move onto a different classifier, **RandomForestClassifier**, and assess how it fares against DummyClassifier! "
   ]
  },
  {
   "cell_type": "code",
   "execution_count": 23,
   "metadata": {},
   "outputs": [
    {
     "data": {
      "text/html": [
       "<div>\n",
       "<style scoped>\n",
       "    .dataframe tbody tr th:only-of-type {\n",
       "        vertical-align: middle;\n",
       "    }\n",
       "\n",
       "    .dataframe tbody tr th {\n",
       "        vertical-align: top;\n",
       "    }\n",
       "\n",
       "    .dataframe thead th {\n",
       "        text-align: right;\n",
       "    }\n",
       "</style>\n",
       "<table border=\"1\" class=\"dataframe\">\n",
       "  <thead>\n",
       "    <tr style=\"text-align: right;\">\n",
       "      <th></th>\n",
       "      <th>fit_time</th>\n",
       "      <th>score_time</th>\n",
       "      <th>test_accuracy</th>\n",
       "      <th>train_accuracy</th>\n",
       "      <th>test_precision</th>\n",
       "      <th>train_precision</th>\n",
       "      <th>test_recall</th>\n",
       "      <th>train_recall</th>\n",
       "      <th>test_f1</th>\n",
       "      <th>train_f1</th>\n",
       "    </tr>\n",
       "  </thead>\n",
       "  <tbody>\n",
       "    <tr>\n",
       "      <th>0</th>\n",
       "      <td>0.280262</td>\n",
       "      <td>0.033451</td>\n",
       "      <td>0.820359</td>\n",
       "      <td>0.951952</td>\n",
       "      <td>0.721311</td>\n",
       "      <td>0.926087</td>\n",
       "      <td>0.771930</td>\n",
       "      <td>0.934211</td>\n",
       "      <td>0.745763</td>\n",
       "      <td>0.930131</td>\n",
       "    </tr>\n",
       "    <tr>\n",
       "      <th>1</th>\n",
       "      <td>0.273891</td>\n",
       "      <td>0.028889</td>\n",
       "      <td>0.814371</td>\n",
       "      <td>0.951952</td>\n",
       "      <td>0.709677</td>\n",
       "      <td>0.915254</td>\n",
       "      <td>0.771930</td>\n",
       "      <td>0.947368</td>\n",
       "      <td>0.739496</td>\n",
       "      <td>0.931034</td>\n",
       "    </tr>\n",
       "    <tr>\n",
       "      <th>2</th>\n",
       "      <td>0.272145</td>\n",
       "      <td>0.028945</td>\n",
       "      <td>0.820359</td>\n",
       "      <td>0.947447</td>\n",
       "      <td>0.736842</td>\n",
       "      <td>0.925110</td>\n",
       "      <td>0.736842</td>\n",
       "      <td>0.921053</td>\n",
       "      <td>0.736842</td>\n",
       "      <td>0.923077</td>\n",
       "    </tr>\n",
       "    <tr>\n",
       "      <th>3</th>\n",
       "      <td>0.278468</td>\n",
       "      <td>0.029185</td>\n",
       "      <td>0.849398</td>\n",
       "      <td>0.943028</td>\n",
       "      <td>0.785714</td>\n",
       "      <td>0.895833</td>\n",
       "      <td>0.771930</td>\n",
       "      <td>0.942982</td>\n",
       "      <td>0.778761</td>\n",
       "      <td>0.918803</td>\n",
       "    </tr>\n",
       "    <tr>\n",
       "      <th>4</th>\n",
       "      <td>0.275663</td>\n",
       "      <td>0.029027</td>\n",
       "      <td>0.831325</td>\n",
       "      <td>0.946027</td>\n",
       "      <td>0.754386</td>\n",
       "      <td>0.913793</td>\n",
       "      <td>0.754386</td>\n",
       "      <td>0.929825</td>\n",
       "      <td>0.754386</td>\n",
       "      <td>0.921739</td>\n",
       "    </tr>\n",
       "  </tbody>\n",
       "</table>\n",
       "</div>"
      ],
      "text/plain": [
       "   fit_time  score_time  test_accuracy  train_accuracy  test_precision  \\\n",
       "0  0.280262    0.033451       0.820359        0.951952        0.721311   \n",
       "1  0.273891    0.028889       0.814371        0.951952        0.709677   \n",
       "2  0.272145    0.028945       0.820359        0.947447        0.736842   \n",
       "3  0.278468    0.029185       0.849398        0.943028        0.785714   \n",
       "4  0.275663    0.029027       0.831325        0.946027        0.754386   \n",
       "\n",
       "   train_precision  test_recall  train_recall   test_f1  train_f1  \n",
       "0         0.926087     0.771930      0.934211  0.745763  0.930131  \n",
       "1         0.915254     0.771930      0.947368  0.739496  0.931034  \n",
       "2         0.925110     0.736842      0.921053  0.736842  0.923077  \n",
       "3         0.895833     0.771930      0.942982  0.778761  0.918803  \n",
       "4         0.913793     0.754386      0.929825  0.754386  0.921739  "
      ]
     },
     "execution_count": 23,
     "metadata": {},
     "output_type": "execute_result"
    }
   ],
   "source": [
    "# a random_state=77 has been included to shuffle up the data more for a more objective result\n",
    "rf_unbalanced_pipe = make_pipeline(preprocessor, RandomForestClassifier(random_state=77))\n",
    "\n",
    "rf_unbalanced_scores = pd.DataFrame(cross_validate(rf_unbalanced_pipe, X_train, y_train, cv=5, return_train_score=True,\n",
    "                                                  scoring = ['accuracy', 'precision', 'recall', 'f1']))\n",
    "\n",
    "rf_unbalanced_scores"
   ]
  },
  {
   "cell_type": "markdown",
   "metadata": {},
   "source": [
    "Although the overall train and test scores are looking much better compared to DummyClassifier, the problem of class imbalance still remains; to resolve this issue, let's redo this model and fit it with **class_weight=\"balanced\"** this time instead!"
   ]
  },
  {
   "cell_type": "code",
   "execution_count": 24,
   "metadata": {},
   "outputs": [
    {
     "data": {
      "text/html": [
       "<div>\n",
       "<style scoped>\n",
       "    .dataframe tbody tr th:only-of-type {\n",
       "        vertical-align: middle;\n",
       "    }\n",
       "\n",
       "    .dataframe tbody tr th {\n",
       "        vertical-align: top;\n",
       "    }\n",
       "\n",
       "    .dataframe thead th {\n",
       "        text-align: right;\n",
       "    }\n",
       "</style>\n",
       "<table border=\"1\" class=\"dataframe\">\n",
       "  <thead>\n",
       "    <tr style=\"text-align: right;\">\n",
       "      <th></th>\n",
       "      <th>fit_time</th>\n",
       "      <th>score_time</th>\n",
       "      <th>test_accuracy</th>\n",
       "      <th>train_accuracy</th>\n",
       "      <th>test_precision</th>\n",
       "      <th>train_precision</th>\n",
       "      <th>test_recall</th>\n",
       "      <th>train_recall</th>\n",
       "      <th>test_f1</th>\n",
       "      <th>train_f1</th>\n",
       "    </tr>\n",
       "  </thead>\n",
       "  <tbody>\n",
       "    <tr>\n",
       "      <th>0</th>\n",
       "      <td>0.280107</td>\n",
       "      <td>0.028907</td>\n",
       "      <td>0.808383</td>\n",
       "      <td>0.951952</td>\n",
       "      <td>0.692308</td>\n",
       "      <td>0.908333</td>\n",
       "      <td>0.789474</td>\n",
       "      <td>0.956140</td>\n",
       "      <td>0.737705</td>\n",
       "      <td>0.931624</td>\n",
       "    </tr>\n",
       "    <tr>\n",
       "      <th>1</th>\n",
       "      <td>0.277491</td>\n",
       "      <td>0.028643</td>\n",
       "      <td>0.820359</td>\n",
       "      <td>0.951952</td>\n",
       "      <td>0.714286</td>\n",
       "      <td>0.904959</td>\n",
       "      <td>0.789474</td>\n",
       "      <td>0.960526</td>\n",
       "      <td>0.750000</td>\n",
       "      <td>0.931915</td>\n",
       "    </tr>\n",
       "    <tr>\n",
       "      <th>2</th>\n",
       "      <td>0.273769</td>\n",
       "      <td>0.028909</td>\n",
       "      <td>0.832335</td>\n",
       "      <td>0.947447</td>\n",
       "      <td>0.745763</td>\n",
       "      <td>0.907173</td>\n",
       "      <td>0.771930</td>\n",
       "      <td>0.942982</td>\n",
       "      <td>0.758621</td>\n",
       "      <td>0.924731</td>\n",
       "    </tr>\n",
       "    <tr>\n",
       "      <th>3</th>\n",
       "      <td>0.282783</td>\n",
       "      <td>0.028919</td>\n",
       "      <td>0.849398</td>\n",
       "      <td>0.943028</td>\n",
       "      <td>0.785714</td>\n",
       "      <td>0.883065</td>\n",
       "      <td>0.771930</td>\n",
       "      <td>0.960526</td>\n",
       "      <td>0.778761</td>\n",
       "      <td>0.920168</td>\n",
       "    </tr>\n",
       "    <tr>\n",
       "      <th>4</th>\n",
       "      <td>0.279410</td>\n",
       "      <td>0.029077</td>\n",
       "      <td>0.795181</td>\n",
       "      <td>0.946027</td>\n",
       "      <td>0.682540</td>\n",
       "      <td>0.896694</td>\n",
       "      <td>0.754386</td>\n",
       "      <td>0.951754</td>\n",
       "      <td>0.716667</td>\n",
       "      <td>0.923404</td>\n",
       "    </tr>\n",
       "  </tbody>\n",
       "</table>\n",
       "</div>"
      ],
      "text/plain": [
       "   fit_time  score_time  test_accuracy  train_accuracy  test_precision  \\\n",
       "0  0.280107    0.028907       0.808383        0.951952        0.692308   \n",
       "1  0.277491    0.028643       0.820359        0.951952        0.714286   \n",
       "2  0.273769    0.028909       0.832335        0.947447        0.745763   \n",
       "3  0.282783    0.028919       0.849398        0.943028        0.785714   \n",
       "4  0.279410    0.029077       0.795181        0.946027        0.682540   \n",
       "\n",
       "   train_precision  test_recall  train_recall   test_f1  train_f1  \n",
       "0         0.908333     0.789474      0.956140  0.737705  0.931624  \n",
       "1         0.904959     0.789474      0.960526  0.750000  0.931915  \n",
       "2         0.907173     0.771930      0.942982  0.758621  0.924731  \n",
       "3         0.883065     0.771930      0.960526  0.778761  0.920168  \n",
       "4         0.896694     0.754386      0.951754  0.716667  0.923404  "
      ]
     },
     "execution_count": 24,
     "metadata": {},
     "output_type": "execute_result"
    }
   ],
   "source": [
    "# a random_state=77 has been included to shuffle up the data more for a more oBjective result\n",
    "rf_balanced_pipe = make_pipeline(preprocessor, RandomForestClassifier(class_weight='balanced', random_state=77))\n",
    "\n",
    "rf_balanced_scores = pd.DataFrame(cross_validate(rf_balanced_pipe, X_train, y_train, cv=5, return_train_score=True,\n",
    "                                                  scoring = ['accuracy', 'precision', 'recall', 'f1']))\n",
    "\n",
    "rf_balanced_scores"
   ]
  },
  {
   "cell_type": "markdown",
   "metadata": {},
   "source": [
    "Let's get the two models' mean score of each columns as well, for a better comparison!"
   ]
  },
  {
   "cell_type": "code",
   "execution_count": 25,
   "metadata": {},
   "outputs": [
    {
     "data": {
      "text/plain": [
       "fit_time           0.276086\n",
       "score_time         0.029900\n",
       "test_accuracy      0.827163\n",
       "train_accuracy     0.948081\n",
       "test_precision     0.741586\n",
       "train_precision    0.915216\n",
       "test_recall        0.761404\n",
       "train_recall       0.935088\n",
       "test_f1            0.751050\n",
       "train_f1           0.924957\n",
       "dtype: float64"
      ]
     },
     "execution_count": 25,
     "metadata": {},
     "output_type": "execute_result"
    }
   ],
   "source": [
    "rf_unbalanced_mean = rf_unbalanced_scores.mean()\n",
    "rf_unbalanced_mean"
   ]
  },
  {
   "cell_type": "code",
   "execution_count": 26,
   "metadata": {},
   "outputs": [
    {
     "data": {
      "text/plain": [
       "fit_time           0.278712\n",
       "score_time         0.028891\n",
       "test_accuracy      0.821131\n",
       "train_accuracy     0.948081\n",
       "test_precision     0.724122\n",
       "train_precision    0.900045\n",
       "test_recall        0.775439\n",
       "train_recall       0.954386\n",
       "test_f1            0.748351\n",
       "train_f1           0.926368\n",
       "dtype: float64"
      ]
     },
     "execution_count": 26,
     "metadata": {},
     "output_type": "execute_result"
    }
   ],
   "source": [
    "rf_balanced_mean = rf_balanced_scores.mean()\n",
    "rf_balanced_mean"
   ]
  },
  {
   "cell_type": "markdown",
   "metadata": {},
   "source": [
    "With the balanced model, the mean test_precision has decreased from 0.741586 to 0.724122 and a dip of mean train_precision for 0.015. However, the mean train_recall has increased in contrast, which then leads to a similar mean f1 score. Perhaps my assumption from the beginning of **class imbalance having a huge impact on the data set is incorrect, as the difference between balanced and unbalanced models is quite minimal!** Nevertheless, more models need to be tested before we can reach a conclusion on that. \n",
    "\n",
    "Let's try **KNeighborsClassifier** this time and see how well (or terribly) this model functions!"
   ]
  },
  {
   "cell_type": "code",
   "execution_count": 27,
   "metadata": {},
   "outputs": [
    {
     "data": {
      "text/html": [
       "<div>\n",
       "<style scoped>\n",
       "    .dataframe tbody tr th:only-of-type {\n",
       "        vertical-align: middle;\n",
       "    }\n",
       "\n",
       "    .dataframe tbody tr th {\n",
       "        vertical-align: top;\n",
       "    }\n",
       "\n",
       "    .dataframe thead th {\n",
       "        text-align: right;\n",
       "    }\n",
       "</style>\n",
       "<table border=\"1\" class=\"dataframe\">\n",
       "  <thead>\n",
       "    <tr style=\"text-align: right;\">\n",
       "      <th></th>\n",
       "      <th>fit_time</th>\n",
       "      <th>score_time</th>\n",
       "      <th>test_accuracy</th>\n",
       "      <th>train_accuracy</th>\n",
       "      <th>test_precision</th>\n",
       "      <th>train_precision</th>\n",
       "      <th>test_recall</th>\n",
       "      <th>train_recall</th>\n",
       "      <th>test_f1</th>\n",
       "      <th>train_f1</th>\n",
       "    </tr>\n",
       "  </thead>\n",
       "  <tbody>\n",
       "    <tr>\n",
       "      <th>0</th>\n",
       "      <td>0.019639</td>\n",
       "      <td>0.026144</td>\n",
       "      <td>0.814371</td>\n",
       "      <td>0.860360</td>\n",
       "      <td>0.709677</td>\n",
       "      <td>0.797357</td>\n",
       "      <td>0.771930</td>\n",
       "      <td>0.793860</td>\n",
       "      <td>0.739496</td>\n",
       "      <td>0.795604</td>\n",
       "    </tr>\n",
       "    <tr>\n",
       "      <th>1</th>\n",
       "      <td>0.018539</td>\n",
       "      <td>0.024876</td>\n",
       "      <td>0.820359</td>\n",
       "      <td>0.866366</td>\n",
       "      <td>0.728814</td>\n",
       "      <td>0.800866</td>\n",
       "      <td>0.754386</td>\n",
       "      <td>0.811404</td>\n",
       "      <td>0.741379</td>\n",
       "      <td>0.806100</td>\n",
       "    </tr>\n",
       "    <tr>\n",
       "      <th>2</th>\n",
       "      <td>0.018519</td>\n",
       "      <td>0.025834</td>\n",
       "      <td>0.790419</td>\n",
       "      <td>0.869369</td>\n",
       "      <td>0.703704</td>\n",
       "      <td>0.837321</td>\n",
       "      <td>0.666667</td>\n",
       "      <td>0.767544</td>\n",
       "      <td>0.684685</td>\n",
       "      <td>0.800915</td>\n",
       "    </tr>\n",
       "    <tr>\n",
       "      <th>3</th>\n",
       "      <td>0.018501</td>\n",
       "      <td>0.025577</td>\n",
       "      <td>0.795181</td>\n",
       "      <td>0.863568</td>\n",
       "      <td>0.725490</td>\n",
       "      <td>0.840796</td>\n",
       "      <td>0.649123</td>\n",
       "      <td>0.741228</td>\n",
       "      <td>0.685185</td>\n",
       "      <td>0.787879</td>\n",
       "    </tr>\n",
       "    <tr>\n",
       "      <th>4</th>\n",
       "      <td>0.018439</td>\n",
       "      <td>0.024244</td>\n",
       "      <td>0.831325</td>\n",
       "      <td>0.857571</td>\n",
       "      <td>0.763636</td>\n",
       "      <td>0.795556</td>\n",
       "      <td>0.736842</td>\n",
       "      <td>0.785088</td>\n",
       "      <td>0.750000</td>\n",
       "      <td>0.790287</td>\n",
       "    </tr>\n",
       "  </tbody>\n",
       "</table>\n",
       "</div>"
      ],
      "text/plain": [
       "   fit_time  score_time  test_accuracy  train_accuracy  test_precision  \\\n",
       "0  0.019639    0.026144       0.814371        0.860360        0.709677   \n",
       "1  0.018539    0.024876       0.820359        0.866366        0.728814   \n",
       "2  0.018519    0.025834       0.790419        0.869369        0.703704   \n",
       "3  0.018501    0.025577       0.795181        0.863568        0.725490   \n",
       "4  0.018439    0.024244       0.831325        0.857571        0.763636   \n",
       "\n",
       "   train_precision  test_recall  train_recall   test_f1  train_f1  \n",
       "0         0.797357     0.771930      0.793860  0.739496  0.795604  \n",
       "1         0.800866     0.754386      0.811404  0.741379  0.806100  \n",
       "2         0.837321     0.666667      0.767544  0.684685  0.800915  \n",
       "3         0.840796     0.649123      0.741228  0.685185  0.787879  \n",
       "4         0.795556     0.736842      0.785088  0.750000  0.790287  "
      ]
     },
     "execution_count": 27,
     "metadata": {},
     "output_type": "execute_result"
    }
   ],
   "source": [
    "# we will set a n_neighbors=5 as a general parameter\n",
    "knn_unbalanced_pipe = make_pipeline(preprocessor, KNeighborsClassifier(n_neighbors=5))\n",
    "\n",
    "knn_unbalanced_valid = pd.DataFrame(cross_validate(knn_unbalanced_pipe, X_train, y_train, cv=5, return_train_score=True, \n",
    "                                                  scoring = ['accuracy', 'precision', 'recall', 'f1']))\n",
    "\n",
    "knn_unbalanced_valid"
   ]
  },
  {
   "cell_type": "markdown",
   "metadata": {},
   "source": [
    "The model seems to be **underfitting** as the overall train and test scores seem to be quite low, but hopefully with a more balanced approach, the results can look better."
   ]
  },
  {
   "cell_type": "code",
   "execution_count": 28,
   "metadata": {},
   "outputs": [
    {
     "data": {
      "text/html": [
       "<div>\n",
       "<style scoped>\n",
       "    .dataframe tbody tr th:only-of-type {\n",
       "        vertical-align: middle;\n",
       "    }\n",
       "\n",
       "    .dataframe tbody tr th {\n",
       "        vertical-align: top;\n",
       "    }\n",
       "\n",
       "    .dataframe thead th {\n",
       "        text-align: right;\n",
       "    }\n",
       "</style>\n",
       "<table border=\"1\" class=\"dataframe\">\n",
       "  <thead>\n",
       "    <tr style=\"text-align: right;\">\n",
       "      <th></th>\n",
       "      <th>fit_time</th>\n",
       "      <th>score_time</th>\n",
       "      <th>test_balanced_accuracy</th>\n",
       "      <th>train_balanced_accuracy</th>\n",
       "      <th>test_precision</th>\n",
       "      <th>train_precision</th>\n",
       "      <th>test_recall</th>\n",
       "      <th>train_recall</th>\n",
       "      <th>test_f1</th>\n",
       "      <th>train_f1</th>\n",
       "    </tr>\n",
       "  </thead>\n",
       "  <tbody>\n",
       "    <tr>\n",
       "      <th>0</th>\n",
       "      <td>0.019052</td>\n",
       "      <td>0.026064</td>\n",
       "      <td>0.804147</td>\n",
       "      <td>0.844418</td>\n",
       "      <td>0.709677</td>\n",
       "      <td>0.797357</td>\n",
       "      <td>0.771930</td>\n",
       "      <td>0.793860</td>\n",
       "      <td>0.739496</td>\n",
       "      <td>0.795604</td>\n",
       "    </tr>\n",
       "    <tr>\n",
       "      <th>1</th>\n",
       "      <td>0.019055</td>\n",
       "      <td>0.025884</td>\n",
       "      <td>0.804466</td>\n",
       "      <td>0.853190</td>\n",
       "      <td>0.728814</td>\n",
       "      <td>0.800866</td>\n",
       "      <td>0.754386</td>\n",
       "      <td>0.811404</td>\n",
       "      <td>0.741379</td>\n",
       "      <td>0.806100</td>\n",
       "    </tr>\n",
       "    <tr>\n",
       "      <th>2</th>\n",
       "      <td>0.018804</td>\n",
       "      <td>0.026196</td>\n",
       "      <td>0.760606</td>\n",
       "      <td>0.844959</td>\n",
       "      <td>0.703704</td>\n",
       "      <td>0.837321</td>\n",
       "      <td>0.666667</td>\n",
       "      <td>0.767544</td>\n",
       "      <td>0.684685</td>\n",
       "      <td>0.800915</td>\n",
       "    </tr>\n",
       "    <tr>\n",
       "      <th>3</th>\n",
       "      <td>0.018469</td>\n",
       "      <td>0.025848</td>\n",
       "      <td>0.760341</td>\n",
       "      <td>0.834168</td>\n",
       "      <td>0.725490</td>\n",
       "      <td>0.840796</td>\n",
       "      <td>0.649123</td>\n",
       "      <td>0.741228</td>\n",
       "      <td>0.685185</td>\n",
       "      <td>0.787879</td>\n",
       "    </tr>\n",
       "    <tr>\n",
       "      <th>4</th>\n",
       "      <td>0.018586</td>\n",
       "      <td>0.025702</td>\n",
       "      <td>0.808788</td>\n",
       "      <td>0.840152</td>\n",
       "      <td>0.763636</td>\n",
       "      <td>0.795556</td>\n",
       "      <td>0.736842</td>\n",
       "      <td>0.785088</td>\n",
       "      <td>0.750000</td>\n",
       "      <td>0.790287</td>\n",
       "    </tr>\n",
       "  </tbody>\n",
       "</table>\n",
       "</div>"
      ],
      "text/plain": [
       "   fit_time  score_time  test_balanced_accuracy  train_balanced_accuracy  \\\n",
       "0  0.019052    0.026064                0.804147                 0.844418   \n",
       "1  0.019055    0.025884                0.804466                 0.853190   \n",
       "2  0.018804    0.026196                0.760606                 0.844959   \n",
       "3  0.018469    0.025848                0.760341                 0.834168   \n",
       "4  0.018586    0.025702                0.808788                 0.840152   \n",
       "\n",
       "   test_precision  train_precision  test_recall  train_recall   test_f1  \\\n",
       "0        0.709677         0.797357     0.771930      0.793860  0.739496   \n",
       "1        0.728814         0.800866     0.754386      0.811404  0.741379   \n",
       "2        0.703704         0.837321     0.666667      0.767544  0.684685   \n",
       "3        0.725490         0.840796     0.649123      0.741228  0.685185   \n",
       "4        0.763636         0.795556     0.736842      0.785088  0.750000   \n",
       "\n",
       "   train_f1  \n",
       "0  0.795604  \n",
       "1  0.806100  \n",
       "2  0.800915  \n",
       "3  0.787879  \n",
       "4  0.790287  "
      ]
     },
     "execution_count": 28,
     "metadata": {},
     "output_type": "execute_result"
    }
   ],
   "source": [
    "knn_balanced_pipe = make_pipeline(preprocessor, KNeighborsClassifier(n_neighbors=5))\n",
    "\n",
    "knn_balanced_valid = pd.DataFrame(cross_validate(knn_balanced_pipe, X_train, y_train, cv=5, return_train_score=True, \n",
    "                                                  scoring = ['balanced_accuracy', 'precision', 'recall', 'f1']))\n",
    "\n",
    "knn_balanced_valid"
   ]
  },
  {
   "cell_type": "markdown",
   "metadata": {},
   "source": [
    "Interestingly, the balanced train and test scores seem to drop even further as other scores stay the same. This is certainly not a better model than RandomForestClassifier. \n",
    "\n",
    "Despite the similarities between the two models, let's try **SVM** this time with **gamma=1** (that determines the radius of sample inclusion, the higher the value, the more complex the model becomes) and **C=1** (that controls the margin of training point classification, the higher the value, the more complex the model becomes) to help tackle the underfitting problem that KNeighborClassifier has."
   ]
  },
  {
   "cell_type": "code",
   "execution_count": 29,
   "metadata": {},
   "outputs": [
    {
     "data": {
      "text/html": [
       "<div>\n",
       "<style scoped>\n",
       "    .dataframe tbody tr th:only-of-type {\n",
       "        vertical-align: middle;\n",
       "    }\n",
       "\n",
       "    .dataframe tbody tr th {\n",
       "        vertical-align: top;\n",
       "    }\n",
       "\n",
       "    .dataframe thead th {\n",
       "        text-align: right;\n",
       "    }\n",
       "</style>\n",
       "<table border=\"1\" class=\"dataframe\">\n",
       "  <thead>\n",
       "    <tr style=\"text-align: right;\">\n",
       "      <th></th>\n",
       "      <th>fit_time</th>\n",
       "      <th>score_time</th>\n",
       "      <th>test_accuracy</th>\n",
       "      <th>train_accuracy</th>\n",
       "      <th>test_recall</th>\n",
       "      <th>train_recall</th>\n",
       "      <th>test_precision</th>\n",
       "      <th>train_precision</th>\n",
       "      <th>test_f1</th>\n",
       "      <th>train_f1</th>\n",
       "    </tr>\n",
       "  </thead>\n",
       "  <tbody>\n",
       "    <tr>\n",
       "      <th>0</th>\n",
       "      <td>0.039833</td>\n",
       "      <td>0.017383</td>\n",
       "      <td>0.778443</td>\n",
       "      <td>0.870871</td>\n",
       "      <td>0.649123</td>\n",
       "      <td>0.811404</td>\n",
       "      <td>0.685185</td>\n",
       "      <td>0.811404</td>\n",
       "      <td>0.666667</td>\n",
       "      <td>0.811404</td>\n",
       "    </tr>\n",
       "    <tr>\n",
       "      <th>1</th>\n",
       "      <td>0.038057</td>\n",
       "      <td>0.017359</td>\n",
       "      <td>0.790419</td>\n",
       "      <td>0.872372</td>\n",
       "      <td>0.666667</td>\n",
       "      <td>0.820175</td>\n",
       "      <td>0.703704</td>\n",
       "      <td>0.809524</td>\n",
       "      <td>0.684685</td>\n",
       "      <td>0.814815</td>\n",
       "    </tr>\n",
       "    <tr>\n",
       "      <th>2</th>\n",
       "      <td>0.038140</td>\n",
       "      <td>0.017246</td>\n",
       "      <td>0.772455</td>\n",
       "      <td>0.876877</td>\n",
       "      <td>0.666667</td>\n",
       "      <td>0.820175</td>\n",
       "      <td>0.666667</td>\n",
       "      <td>0.820175</td>\n",
       "      <td>0.666667</td>\n",
       "      <td>0.820175</td>\n",
       "    </tr>\n",
       "    <tr>\n",
       "      <th>3</th>\n",
       "      <td>0.038473</td>\n",
       "      <td>0.017622</td>\n",
       "      <td>0.783133</td>\n",
       "      <td>0.871064</td>\n",
       "      <td>0.596491</td>\n",
       "      <td>0.824561</td>\n",
       "      <td>0.723404</td>\n",
       "      <td>0.803419</td>\n",
       "      <td>0.653846</td>\n",
       "      <td>0.813853</td>\n",
       "    </tr>\n",
       "    <tr>\n",
       "      <th>4</th>\n",
       "      <td>0.038070</td>\n",
       "      <td>0.017486</td>\n",
       "      <td>0.771084</td>\n",
       "      <td>0.854573</td>\n",
       "      <td>0.473684</td>\n",
       "      <td>0.785088</td>\n",
       "      <td>0.771429</td>\n",
       "      <td>0.788546</td>\n",
       "      <td>0.586957</td>\n",
       "      <td>0.786813</td>\n",
       "    </tr>\n",
       "  </tbody>\n",
       "</table>\n",
       "</div>"
      ],
      "text/plain": [
       "   fit_time  score_time  test_accuracy  train_accuracy  test_recall  \\\n",
       "0  0.039833    0.017383       0.778443        0.870871     0.649123   \n",
       "1  0.038057    0.017359       0.790419        0.872372     0.666667   \n",
       "2  0.038140    0.017246       0.772455        0.876877     0.666667   \n",
       "3  0.038473    0.017622       0.783133        0.871064     0.596491   \n",
       "4  0.038070    0.017486       0.771084        0.854573     0.473684   \n",
       "\n",
       "   train_recall  test_precision  train_precision   test_f1  train_f1  \n",
       "0      0.811404        0.685185         0.811404  0.666667  0.811404  \n",
       "1      0.820175        0.703704         0.809524  0.684685  0.814815  \n",
       "2      0.820175        0.666667         0.820175  0.666667  0.820175  \n",
       "3      0.824561        0.723404         0.803419  0.653846  0.813853  \n",
       "4      0.785088        0.771429         0.788546  0.586957  0.786813  "
      ]
     },
     "execution_count": 29,
     "metadata": {},
     "output_type": "execute_result"
    }
   ],
   "source": [
    "svm_pipe = make_pipeline(preprocessor, SVC(gamma=1, C=1))\n",
    "\n",
    "svm_valid = pd.DataFrame(cross_validate(svm_pipe, X_train, y_train, cv=5, return_train_score=True,\n",
    "                                       scoring = ['accuracy', 'recall', 'precision', 'f1']))\n",
    "\n",
    "svm_valid"
   ]
  },
  {
   "cell_type": "code",
   "execution_count": 30,
   "metadata": {},
   "outputs": [
    {
     "data": {
      "text/plain": [
       "fit_time           0.038514\n",
       "score_time         0.017419\n",
       "test_accuracy      0.779107\n",
       "train_accuracy     0.869151\n",
       "test_recall        0.610526\n",
       "train_recall       0.812281\n",
       "test_precision     0.710078\n",
       "train_precision    0.806614\n",
       "test_f1            0.651764\n",
       "train_f1           0.809412\n",
       "dtype: float64"
      ]
     },
     "execution_count": 30,
     "metadata": {},
     "output_type": "execute_result"
    }
   ],
   "source": [
    "svm_mean = svm_valid.mean()\n",
    "svm_mean"
   ]
  },
  {
   "cell_type": "markdown",
   "metadata": {},
   "source": [
    "SVM, similar to KNeighborClassifier, does not seem to be better than RandomForestClassifier, but the fundamental difference between the two models is still worth pointing out.\n",
    "\n",
    "SVM focuses on two-class datasets, measures the distance between each data entries, and works best when there are only two numeric features involved, whereas RandomForestClassifier tackles multi-class problems and works well with a mixture of numeric and categorical features. The inclusion of both KNeighborClassifier and SVM is to a) experiment with different models that may not be conventionally associated to a multi-class data set, and b) consider, even if the overall score is better (which is not the case in this project), the nature of the data set and the models themselves first-and-foremost. \n",
    "\n",
    "Let's call back the balanced RandomForestClassifier score again and compute the mean values of each column!"
   ]
  },
  {
   "cell_type": "code",
   "execution_count": 31,
   "metadata": {},
   "outputs": [
    {
     "data": {
      "text/html": [
       "<div>\n",
       "<style scoped>\n",
       "    .dataframe tbody tr th:only-of-type {\n",
       "        vertical-align: middle;\n",
       "    }\n",
       "\n",
       "    .dataframe tbody tr th {\n",
       "        vertical-align: top;\n",
       "    }\n",
       "\n",
       "    .dataframe thead th {\n",
       "        text-align: right;\n",
       "    }\n",
       "</style>\n",
       "<table border=\"1\" class=\"dataframe\">\n",
       "  <thead>\n",
       "    <tr style=\"text-align: right;\">\n",
       "      <th></th>\n",
       "      <th>fit_time</th>\n",
       "      <th>score_time</th>\n",
       "      <th>test_accuracy</th>\n",
       "      <th>train_accuracy</th>\n",
       "      <th>test_precision</th>\n",
       "      <th>train_precision</th>\n",
       "      <th>test_recall</th>\n",
       "      <th>train_recall</th>\n",
       "      <th>test_f1</th>\n",
       "      <th>train_f1</th>\n",
       "    </tr>\n",
       "  </thead>\n",
       "  <tbody>\n",
       "    <tr>\n",
       "      <th>0</th>\n",
       "      <td>0.280107</td>\n",
       "      <td>0.028907</td>\n",
       "      <td>0.808383</td>\n",
       "      <td>0.951952</td>\n",
       "      <td>0.692308</td>\n",
       "      <td>0.908333</td>\n",
       "      <td>0.789474</td>\n",
       "      <td>0.956140</td>\n",
       "      <td>0.737705</td>\n",
       "      <td>0.931624</td>\n",
       "    </tr>\n",
       "    <tr>\n",
       "      <th>1</th>\n",
       "      <td>0.277491</td>\n",
       "      <td>0.028643</td>\n",
       "      <td>0.820359</td>\n",
       "      <td>0.951952</td>\n",
       "      <td>0.714286</td>\n",
       "      <td>0.904959</td>\n",
       "      <td>0.789474</td>\n",
       "      <td>0.960526</td>\n",
       "      <td>0.750000</td>\n",
       "      <td>0.931915</td>\n",
       "    </tr>\n",
       "    <tr>\n",
       "      <th>2</th>\n",
       "      <td>0.273769</td>\n",
       "      <td>0.028909</td>\n",
       "      <td>0.832335</td>\n",
       "      <td>0.947447</td>\n",
       "      <td>0.745763</td>\n",
       "      <td>0.907173</td>\n",
       "      <td>0.771930</td>\n",
       "      <td>0.942982</td>\n",
       "      <td>0.758621</td>\n",
       "      <td>0.924731</td>\n",
       "    </tr>\n",
       "    <tr>\n",
       "      <th>3</th>\n",
       "      <td>0.282783</td>\n",
       "      <td>0.028919</td>\n",
       "      <td>0.849398</td>\n",
       "      <td>0.943028</td>\n",
       "      <td>0.785714</td>\n",
       "      <td>0.883065</td>\n",
       "      <td>0.771930</td>\n",
       "      <td>0.960526</td>\n",
       "      <td>0.778761</td>\n",
       "      <td>0.920168</td>\n",
       "    </tr>\n",
       "    <tr>\n",
       "      <th>4</th>\n",
       "      <td>0.279410</td>\n",
       "      <td>0.029077</td>\n",
       "      <td>0.795181</td>\n",
       "      <td>0.946027</td>\n",
       "      <td>0.682540</td>\n",
       "      <td>0.896694</td>\n",
       "      <td>0.754386</td>\n",
       "      <td>0.951754</td>\n",
       "      <td>0.716667</td>\n",
       "      <td>0.923404</td>\n",
       "    </tr>\n",
       "  </tbody>\n",
       "</table>\n",
       "</div>"
      ],
      "text/plain": [
       "   fit_time  score_time  test_accuracy  train_accuracy  test_precision  \\\n",
       "0  0.280107    0.028907       0.808383        0.951952        0.692308   \n",
       "1  0.277491    0.028643       0.820359        0.951952        0.714286   \n",
       "2  0.273769    0.028909       0.832335        0.947447        0.745763   \n",
       "3  0.282783    0.028919       0.849398        0.943028        0.785714   \n",
       "4  0.279410    0.029077       0.795181        0.946027        0.682540   \n",
       "\n",
       "   train_precision  test_recall  train_recall   test_f1  train_f1  \n",
       "0         0.908333     0.789474      0.956140  0.737705  0.931624  \n",
       "1         0.904959     0.789474      0.960526  0.750000  0.931915  \n",
       "2         0.907173     0.771930      0.942982  0.758621  0.924731  \n",
       "3         0.883065     0.771930      0.960526  0.778761  0.920168  \n",
       "4         0.896694     0.754386      0.951754  0.716667  0.923404  "
      ]
     },
     "execution_count": 31,
     "metadata": {},
     "output_type": "execute_result"
    }
   ],
   "source": [
    "rf_balanced_scores"
   ]
  },
  {
   "cell_type": "code",
   "execution_count": 32,
   "metadata": {},
   "outputs": [
    {
     "data": {
      "text/plain": [
       "fit_time           0.278712\n",
       "score_time         0.028891\n",
       "test_accuracy      0.821131\n",
       "train_accuracy     0.948081\n",
       "test_precision     0.724122\n",
       "train_precision    0.900045\n",
       "test_recall        0.775439\n",
       "train_recall       0.954386\n",
       "test_f1            0.748351\n",
       "train_f1           0.926368\n",
       "dtype: float64"
      ]
     },
     "execution_count": 32,
     "metadata": {},
     "output_type": "execute_result"
    }
   ],
   "source": [
    "rf_balanced_mean"
   ]
  },
  {
   "cell_type": "markdown",
   "metadata": {},
   "source": [
    "Looking at the mean results, we can see that **overfitting** is most likely a problem with this model, since the difference between each train and test score is quite noticable. Thankfully, there are parameters that can help reduce it, such as **max_depth** and **n_estimators**, but how are we going to find the best value to set for these parameters? \n",
    "\n",
    "That's where **RandomSearchCV** comes in; it randomly samples through the data set and tests different combinations to ascertain which is the best value for each parameter. Although GridSearchCV may give us the most pinpoint accurate result, the extensive time and hardware processing power (which unfortunately I do not possess as I am working off a laptop, not a well-built PC) are two huge disadvantages when compared to the efficiency and microscopically-less-accurate results that we can obtain from RandomSearchCV. \n",
    "\n",
    "We will be using **rf_balanced_pipe** as the base pipeline to build the RandomSearchCV, with additional hyperparameters, such as **n_iter=50**, **cv=5**, **verbose=1** and **n_jobs=-1**, which will help streamline the code and obtain the results with enough complexity without bogging down the system. The parameters dictionary will include limits for both \"max_depth\" and \"n_estimator\" to ensure that we don't force the software and hardware to run the codes too many times, which may lead to unwanted errors and crashes."
   ]
  },
  {
   "cell_type": "code",
   "execution_count": 33,
   "metadata": {},
   "outputs": [
    {
     "name": "stdout",
     "output_type": "stream",
     "text": [
      "Fitting 5 folds for each of 50 candidates, totalling 250 fits\n"
     ]
    },
    {
     "data": {
      "text/plain": [
       "RandomizedSearchCV(cv=5,\n",
       "                   estimator=Pipeline(steps=[('columntransformer',\n",
       "                                              ColumnTransformer(transformers=[('pipeline-1',\n",
       "                                                                               Pipeline(steps=[('imputer',\n",
       "                                                                                                SimpleImputer(strategy='median')),\n",
       "                                                                                               ('scaler',\n",
       "                                                                                                StandardScaler())]),\n",
       "                                                                               ['MoisturePercent']),\n",
       "                                                                              ('pipeline-2',\n",
       "                                                                               Pipeline(steps=[('imputer',\n",
       "                                                                                                SimpleImputer(fill_value='missing',\n",
       "                                                                                                              strategy='most_frequent')),\n",
       "                                                                                               ('onehot',\n",
       "                                                                                                OneHotEn...\n",
       "                                             ('randomforestclassifier',\n",
       "                                              RandomForestClassifier(class_weight='balanced',\n",
       "                                                                     random_state=77))]),\n",
       "                   n_iter=50, n_jobs=-1,\n",
       "                   param_distributions={'randomforestclassifier__max_depth': <scipy.stats._distn_infrastructure.rv_frozen object at 0x7f5846fa6bb0>,\n",
       "                                        'randomforestclassifier__n_estimators': <scipy.stats._distn_infrastructure.rv_frozen object at 0x7f5846fc6d00>},\n",
       "                   random_state=123, verbose=1)"
      ]
     },
     "execution_count": 33,
     "metadata": {},
     "output_type": "execute_result"
    }
   ],
   "source": [
    "# do the RandomSearchCV\n",
    "# look at Assignment 7 - Section 2 for more information\n",
    "\n",
    "param_dist = {\n",
    "    \"randomforestclassifier__n_estimators\": scipy.stats.randint(low=10, high=300),\n",
    "    \"randomforestclassifier__max_depth\": scipy.stats.randint(low=2, high=20),\n",
    "}\n",
    "\n",
    "scorer = ['f1']\n",
    "\n",
    "random_search = RandomizedSearchCV(\n",
    "    rf_balanced_pipe,\n",
    "    param_dist,\n",
    "    n_iter=50,\n",
    "    cv=5,\n",
    "    verbose=1,\n",
    "    n_jobs=-1,\n",
    "    random_state=123,\n",
    ")\n",
    "random_search.fit(X_train, y_train)"
   ]
  },
  {
   "cell_type": "markdown",
   "metadata": {},
   "source": [
    "Let's use **best_params_** to find the best hyperparameters!"
   ]
  },
  {
   "cell_type": "code",
   "execution_count": 34,
   "metadata": {},
   "outputs": [
    {
     "data": {
      "text/plain": [
       "{'randomforestclassifier__max_depth': 8,\n",
       " 'randomforestclassifier__n_estimators': 126}"
      ]
     },
     "execution_count": 34,
     "metadata": {},
     "output_type": "execute_result"
    }
   ],
   "source": [
    "# use best_param_ to get best parameters\n",
    "best_params = random_search.best_params_\n",
    "best_params"
   ]
  },
  {
   "cell_type": "markdown",
   "metadata": {},
   "source": [
    "As shown by the result, the best hyperparameters for random_search is **max_depth=8** and **n_estimators=126**.\n",
    "\n",
    "Let's now move onto finding the best score with the **best_score_** function!"
   ]
  },
  {
   "cell_type": "code",
   "execution_count": 35,
   "metadata": {},
   "outputs": [
    {
     "data": {
      "text/plain": [
       "0.8368"
      ]
     },
     "execution_count": 35,
     "metadata": {},
     "output_type": "execute_result"
    }
   ],
   "source": [
    "# use best_score_ to get best scores\n",
    "best_scores = random_search.best_score_\n",
    "best_scores.round(4)"
   ]
  },
  {
   "cell_type": "markdown",
   "metadata": {},
   "source": [
    "As indicated by the result, the mean cross-validated score from the random-search model is **0.8368**; this cross-validation seems promising, as it is neither too high (which can lead to \"overfitting\") nor too low (which can lead to \"underfitting\"). Let's get the scores from the train and test sets as well."
   ]
  },
  {
   "cell_type": "code",
   "execution_count": 36,
   "metadata": {},
   "outputs": [
    {
     "data": {
      "text/plain": [
       "0.8931572629051621"
      ]
     },
     "execution_count": 36,
     "metadata": {},
     "output_type": "execute_result"
    }
   ],
   "source": [
    "train_score = random_search.score(X_train, y_train)\n",
    "train_score"
   ]
  },
  {
   "cell_type": "code",
   "execution_count": 37,
   "metadata": {},
   "outputs": [
    {
     "data": {
      "text/plain": [
       "0.8373205741626795"
      ]
     },
     "execution_count": 37,
     "metadata": {},
     "output_type": "execute_result"
    }
   ],
   "source": [
    "test_score = random_search.score(X_test, y_test)\n",
    "test_score"
   ]
  },
  {
   "cell_type": "markdown",
   "metadata": {},
   "source": [
    "There is now a smaller difference between the two scores, which showcases the model's ability to **neither overfit nor underfit**. However, our job is not yet finished, as we should still plot a confusion matrix to look at all the true and false positives and negatives that can be derived from the model's predictions! "
   ]
  },
  {
   "cell_type": "code",
   "execution_count": 38,
   "metadata": {},
   "outputs": [
    {
     "data": {
      "text/plain": [
       "<sklearn.metrics._plot.confusion_matrix.ConfusionMatrixDisplay at 0x7f5846e32c40>"
      ]
     },
     "execution_count": 38,
     "metadata": {},
     "output_type": "execute_result"
    },
    {
     "data": {
      "image/png": "[encoded data removed]",
      "text/plain": [
       "<Figure size 432x288 with 2 Axes>"
      ]
     },
     "metadata": {
      "needs_background": "light"
     },
     "output_type": "display_data"
    }
   ],
   "source": [
    "# create a confusion matrix plot\n",
    "cm_plot = plot_confusion_matrix(random_search, X_test, y_test, cmap='Blues')\n",
    "cm_plot"
   ]
  },
  {
   "cell_type": "markdown",
   "metadata": {},
   "source": [
    "The plot tells us that there are: **121 True Negatives**, **19 False Negatives**, **54 True Positives**, and **15 False Positvies**.\n",
    "\n",
    "Let's print out a classification report and examine the different metrics that utilize all of what the confusion matrix tells."
   ]
  },
  {
   "cell_type": "code",
   "execution_count": 39,
   "metadata": {},
   "outputs": [
    {
     "name": "stdout",
     "output_type": "stream",
     "text": [
      "              precision    recall  f1-score   support\n",
      "\n",
      "           0       0.86      0.89      0.88       136\n",
      "           1       0.78      0.74      0.76        73\n",
      "\n",
      "    accuracy                           0.84       209\n",
      "   macro avg       0.82      0.81      0.82       209\n",
      "weighted avg       0.84      0.84      0.84       209\n",
      "\n"
     ]
    }
   ],
   "source": [
    "# print a classification report\n",
    "random_search_predicted = random_search.predict(X_test)\n",
    "print(classification_report(y_test, random_search_predicted))"
   ]
  },
  {
   "cell_type": "markdown",
   "metadata": {},
   "source": [
    "The precision, recall and f1 scores for \"lower fat level\" seems to be higher than \"higher fat level,\" but such a result may be more so indicative to the fact that the former category almost doubles the latter; therefore, **the \"random_search\" model will likely work better at predicting \"lower fat level\" correctly than \"higher fat level.\"** Looking at the \"weighted avg\" category, we can also see that, when adjusted for a balanced class weight, **the \"random_search\" model does not seem to overfit or underfit**, as **precision, recall and f1 scores are the same, 0.84.**\n",
    "\n",
    "Despite the lower likelihood of successfully predicting \"higher fat level,\" **\"random_search\" is the best model to predict fat level in cheese as it does not have the same overfitting or underfitting issues that other models have.**"
   ]
  },
  {
   "cell_type": "markdown",
   "metadata": {},
   "source": [
    "Lastly, I intend to do a simple test to see how well the predictions of the model, based on being fitted with \"X_test,\" stack up against the actual fat levels in \"y_test.\" We will first call back the predict function and turn it into a dataframe."
   ]
  },
  {
   "cell_type": "code",
   "execution_count": 40,
   "metadata": {},
   "outputs": [
    {
     "data": {
      "text/html": [
       "<div>\n",
       "<style scoped>\n",
       "    .dataframe tbody tr th:only-of-type {\n",
       "        vertical-align: middle;\n",
       "    }\n",
       "\n",
       "    .dataframe tbody tr th {\n",
       "        vertical-align: top;\n",
       "    }\n",
       "\n",
       "    .dataframe thead th {\n",
       "        text-align: right;\n",
       "    }\n",
       "</style>\n",
       "<table border=\"1\" class=\"dataframe\">\n",
       "  <thead>\n",
       "    <tr style=\"text-align: right;\">\n",
       "      <th></th>\n",
       "      <th>0</th>\n",
       "    </tr>\n",
       "  </thead>\n",
       "  <tbody>\n",
       "    <tr>\n",
       "      <th>0</th>\n",
       "      <td>0</td>\n",
       "    </tr>\n",
       "    <tr>\n",
       "      <th>1</th>\n",
       "      <td>0</td>\n",
       "    </tr>\n",
       "    <tr>\n",
       "      <th>2</th>\n",
       "      <td>0</td>\n",
       "    </tr>\n",
       "    <tr>\n",
       "      <th>3</th>\n",
       "      <td>0</td>\n",
       "    </tr>\n",
       "    <tr>\n",
       "      <th>4</th>\n",
       "      <td>0</td>\n",
       "    </tr>\n",
       "    <tr>\n",
       "      <th>...</th>\n",
       "      <td>...</td>\n",
       "    </tr>\n",
       "    <tr>\n",
       "      <th>204</th>\n",
       "      <td>0</td>\n",
       "    </tr>\n",
       "    <tr>\n",
       "      <th>205</th>\n",
       "      <td>1</td>\n",
       "    </tr>\n",
       "    <tr>\n",
       "      <th>206</th>\n",
       "      <td>0</td>\n",
       "    </tr>\n",
       "    <tr>\n",
       "      <th>207</th>\n",
       "      <td>0</td>\n",
       "    </tr>\n",
       "    <tr>\n",
       "      <th>208</th>\n",
       "      <td>0</td>\n",
       "    </tr>\n",
       "  </tbody>\n",
       "</table>\n",
       "<p>209 rows × 1 columns</p>\n",
       "</div>"
      ],
      "text/plain": [
       "     0\n",
       "0    0\n",
       "1    0\n",
       "2    0\n",
       "3    0\n",
       "4    0\n",
       "..  ..\n",
       "204  0\n",
       "205  1\n",
       "206  0\n",
       "207  0\n",
       "208  0\n",
       "\n",
       "[209 rows x 1 columns]"
      ]
     },
     "execution_count": 40,
     "metadata": {},
     "output_type": "execute_result"
    }
   ],
   "source": [
    "random_predict = pd.DataFrame(random_search.predict(X_test))\n",
    "random_predict"
   ]
  },
  {
   "cell_type": "markdown",
   "metadata": {},
   "source": [
    "Next up, we will **turn \"y_test\" into a dataframe as well**."
   ]
  },
  {
   "cell_type": "code",
   "execution_count": 41,
   "metadata": {},
   "outputs": [
    {
     "data": {
      "text/html": [
       "<div>\n",
       "<style scoped>\n",
       "    .dataframe tbody tr th:only-of-type {\n",
       "        vertical-align: middle;\n",
       "    }\n",
       "\n",
       "    .dataframe tbody tr th {\n",
       "        vertical-align: top;\n",
       "    }\n",
       "\n",
       "    .dataframe thead th {\n",
       "        text-align: right;\n",
       "    }\n",
       "</style>\n",
       "<table border=\"1\" class=\"dataframe\">\n",
       "  <thead>\n",
       "    <tr style=\"text-align: right;\">\n",
       "      <th></th>\n",
       "      <th>FatLevel</th>\n",
       "    </tr>\n",
       "  </thead>\n",
       "  <tbody>\n",
       "    <tr>\n",
       "      <th>318</th>\n",
       "      <td>0</td>\n",
       "    </tr>\n",
       "    <tr>\n",
       "      <th>235</th>\n",
       "      <td>1</td>\n",
       "    </tr>\n",
       "    <tr>\n",
       "      <th>449</th>\n",
       "      <td>1</td>\n",
       "    </tr>\n",
       "    <tr>\n",
       "      <th>739</th>\n",
       "      <td>0</td>\n",
       "    </tr>\n",
       "    <tr>\n",
       "      <th>621</th>\n",
       "      <td>0</td>\n",
       "    </tr>\n",
       "    <tr>\n",
       "      <th>...</th>\n",
       "      <td>...</td>\n",
       "    </tr>\n",
       "    <tr>\n",
       "      <th>36</th>\n",
       "      <td>1</td>\n",
       "    </tr>\n",
       "    <tr>\n",
       "      <th>162</th>\n",
       "      <td>1</td>\n",
       "    </tr>\n",
       "    <tr>\n",
       "      <th>260</th>\n",
       "      <td>0</td>\n",
       "    </tr>\n",
       "    <tr>\n",
       "      <th>808</th>\n",
       "      <td>0</td>\n",
       "    </tr>\n",
       "    <tr>\n",
       "      <th>363</th>\n",
       "      <td>0</td>\n",
       "    </tr>\n",
       "  </tbody>\n",
       "</table>\n",
       "<p>209 rows × 1 columns</p>\n",
       "</div>"
      ],
      "text/plain": [
       "     FatLevel\n",
       "318         0\n",
       "235         1\n",
       "449         1\n",
       "739         0\n",
       "621         0\n",
       "..        ...\n",
       "36          1\n",
       "162         1\n",
       "260         0\n",
       "808         0\n",
       "363         0\n",
       "\n",
       "[209 rows x 1 columns]"
      ]
     },
     "execution_count": 41,
     "metadata": {},
     "output_type": "execute_result"
    }
   ],
   "source": [
    "y_test_df = pd.DataFrame(y_test)\n",
    "y_test_df"
   ]
  },
  {
   "cell_type": "markdown",
   "metadata": {},
   "source": [
    "Finally, we will create a \"columns_dist\" that features both the predictions and the actual values of fat level, which will then be converted into a dataframe. We will apply a sum function to it in the end so we can see just how many predictions are correct!"
   ]
  },
  {
   "cell_type": "code",
   "execution_count": 42,
   "metadata": {},
   "outputs": [
    {
     "data": {
      "text/plain": [
       "y_test        73.0\n",
       "prediction    69.0\n",
       "dtype: float64"
      ]
     },
     "execution_count": 42,
     "metadata": {},
     "output_type": "execute_result"
    }
   ],
   "source": [
    "columns_dist = {\"y_test\": y_test_df['FatLevel'], \n",
    "              \"prediction\": random_predict[0]}\n",
    "\n",
    "results_df = pd.DataFrame(columns_dist)\n",
    "results_df.sum()"
   ]
  },
  {
   "cell_type": "markdown",
   "metadata": {},
   "source": [
    "The results, which exclude any detailed account of false positives or false negatives, show that in general the model did quite well for its predictions; a **69/73 = 94.52% chance of getting it right!**"
   ]
  },
  {
   "cell_type": "markdown",
   "metadata": {},
   "source": [
    "## Conclusions"
   ]
  },
  {
   "cell_type": "markdown",
   "metadata": {},
   "source": [
    "The outcome of the project can be coined as somewhat satisfactory as we do have a model that can predict the fat level in cheese fairly well at a weighted average f1 score of 0.84, although the class imbalance issue, despite not severely hampering the effectiveness of the model, still persists. When working with real-world data sets, it is often difficult to fully eliminate the problem of class imbalance, at least not without changing the data gathering methods or process. \n",
    "\n",
    "The model, despite how well it performs given the circumstance, is still flawed, as descriptive columns were stripped from both the training and testing sets. \"FlavourEn,\" \"CharacteristicsEn,\" and \"RindTypeEn\" columns, and their content contained within, all likely included information that can increase the accuracy of the model; while I do not regret excluding them due to technical complexity, the outcome and scores could have become more satisfactory with them included. \n",
    "\n",
    "Although the project outcome is satisfactory enough, there are other additional methods or ideas that can further increase the overall scoring accuracy; one such an idea was to compare each entry from \"y_test\" to the corresponding prediction from the RandomizedSearchCV model, and assess if each individual prediction was correct or not. Without additional learning or programming training, I sadly was not able to include that idea in the porject itself, as the best I could do was to tally up a total count of prediction accuracy while omitting any possibility of false positive or false negative. \n",
    "\n",
    "Overall, the goal of the project has been achieved as there is now a model capable of making somewhat accurate predictions of fat level in cheese, albeit with certain information excluded from the process and some details omitted due to technical difficulty and concern for too much complexity in execution."
   ]
  },
  {
   "cell_type": "markdown",
   "metadata": {},
   "source": [
    "## References"
   ]
  },
  {
   "cell_type": "markdown",
   "metadata": {},
   "source": [
    "While most information and the \"cheese\" data set has been provided by the course instructors/faculty members of UBC, additional insights and programming functions were gathered from other online websites."
   ]
  },
  {
   "cell_type": "markdown",
   "metadata": {},
   "source": [
    "**Resources used:**\n",
    "\n",
    "- Data Source\n",
    "    - This \"Cheese data set used in this project was obtained from Kaggle and follows an Open Government License (Canada). \n",
    "- Information and Execution\n",
    "    - All technical and programming concepts and skills I used in this project were taught by the UBC instructors and faculty members of the course: \"Introduction to Machine Learning.\"\n",
    "- Additional \"RBF SVM Parameters\" Information\n",
    "    - https://scikit-learn.org/stable/auto_examples/svm/plot_rbf_parameters.html\n",
    "- Additional \"Class Imbalance\" Information\n",
    "    - https://medium.com/mlearning-ai/handling-class-imbalance-in-machine-learning-cb1473e825ce \n",
    "- Additional \"Random Forest\" Information\n",
    "    - https://www.geeksforgeeks.org/how-to-solve-overfitting-in-random-forest-in-python-sklearn/"
   ]
  }
 ],
 "metadata": {
  "kernelspec": {
   "display_name": "Python 3",
   "language": "python",
   "name": "python3"
  },
  "language_info": {
   "codemirror_mode": {
    "name": "ipython",
    "version": 3
   },
   "file_extension": ".py",
   "mimetype": "text/x-python",
   "name": "python",
   "nbconvert_exporter": "python",
   "pygments_lexer": "ipython3",
   "version": "3.8.5"
  }
 },
 "nbformat": 4,
 "nbformat_minor": 4
}
